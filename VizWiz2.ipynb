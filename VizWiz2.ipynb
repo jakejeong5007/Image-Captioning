{
  "nbformat": 4,
  "nbformat_minor": 0,
  "metadata": {
    "colab": {
      "name": "VizWiz2.ipynb",
      "provenance": [],
      "collapsed_sections": [],
      "include_colab_link": true
    },
    "kernelspec": {
      "name": "python3",
      "display_name": "Python 3"
    }
  },
  "cells": [
    {
      "cell_type": "markdown",
      "metadata": {
        "id": "view-in-github",
        "colab_type": "text"
      },
      "source": [
        "<a href=\"https://colab.research.google.com/github/jakejeong5007/VizWiz/blob/main/VizWiz2.ipynb\" target=\"_parent\"><img src=\"https://colab.research.google.com/assets/colab-badge.svg\" alt=\"Open In Colab\"/></a>"
      ]
    },
    {
      "cell_type": "markdown",
      "metadata": {
        "id": "T4sLmjIuDpmY"
      },
      "source": [
        "![](https://vizwiz.org/wp-content/uploads/2019/05/logo-name1.png)"
      ]
    },
    {
      "cell_type": "markdown",
      "metadata": {
        "id": "xyvASmeODyC3"
      },
      "source": [
        "In the previous week, we started our Vizwiz project and got our data ready. \n",
        "In this week, we train our own LSTM-based models. \n",
        "\n",
        "We'll start by visualizing our data, then identifying the best algorithm for our problem. In order to do so, we will explore a few model variants.\n"
      ]
    },
    {
      "cell_type": "code",
      "metadata": {
        "id": "DMoymbJeqib4",
        "colab": {
          "base_uri": "https://localhost:8080/"
        },
        "outputId": "75c0f135-ad4a-4587-ef9f-32687292a145"
      },
      "source": [
        "#@title Run this to download data and prepare our environment! { display-mode: \"form\" }\n",
        "\n",
        "\n",
        "### preparing definitions\n",
        "# downloading and loading data\n",
        "from keras.utils.vis_utils import plot_model\n",
        "import gdown\n",
        "\n",
        "# file variables\n",
        "metadata_url         = 'https://storage.googleapis.com/inspirit-ai-data-bucket-1/Data/Deep%20Dives/Advanced%20Topics%20in%20AI/Sessions%206%20-%2010%20(Projects)/Project%20-%20Visual%20Question%20Answering/Annotations.zip'\n",
        "metadata_path        = './metadata.zip'\n",
        "\n",
        "###\n",
        "gdown.download(metadata_url, './metadata.zip', True)\n",
        "!unzip ./metadata.zip\n",
        "\n",
        "# file variables\n",
        "data_url         = 'https://storage.googleapis.com/inspirit-ai-data-bucket-1/Data/Deep%20Dives/Advanced%20Topics%20in%20AI/Sessions%206%20-%2010%20(Projects)/Project%20-%20Visual%20Question%20Answering/small.h5'\n",
        "image_data_path      = 'small.h5'\n",
        "\n",
        "###\n",
        "gdown.download(data_url, 'small.h5', True)\n",
        "\n",
        "# file variables\n",
        "train_url         = 'https://storage.googleapis.com/inspirit-ai-data-bucket-1/Data/Deep%20Dives/Advanced%20Topics%20in%20AI/Sessions%206%20-%2010%20(Projects)/Project%20-%20Visual%20Question%20Answering/train.h5'\n",
        "train_path      = 'train.h5'\n",
        "###\n",
        "gdown.download(train_url, 'train.h5', True)\n",
        "\n",
        "# file variables\n",
        "val_url         = 'https://storage.googleapis.com/inspirit-ai-data-bucket-1/Data/Deep%20Dives/Advanced%20Topics%20in%20AI/Sessions%206%20-%2010%20(Projects)/Project%20-%20Visual%20Question%20Answering/val.h5'\n",
        "val_path      = 'val.h5'\n",
        "\n",
        "###\n",
        "gdown.download(val_url, 'val.h5', True)\n",
        "\n",
        "\n",
        "\n",
        "# file variables\n",
        "data_url         = 'https://storage.googleapis.com/inspirit-ai-data-bucket-1/Data/Deep%20Dives/Advanced%20Topics%20in%20AI/Sessions%206%20-%2010%20(Projects)/Project%20-%20Visual%20Question%20Answering/embedding_matrix.h5'\n",
        "image_data_path      = 'embedding_matrix.h5'\n",
        "\n",
        "###\n",
        "gdown.download(data_url, 'embedding_matrix.h5', True)\n",
        "embeddings_path = 'embedding_matrix.h5'\n",
        "\n",
        "\n",
        "\n",
        "data_url         = 'https://storage.googleapis.com/inspirit-ai-data-bucket-1/Data/Deep%20Dives/Advanced%20Topics%20in%20AI/Sessions%206%20-%2010%20(Projects)/Project%20-%20Visual%20Question%20Answering/vocab_vizwiz%20(1).json'\n",
        "image_data_path      = 'vocab.json'\n",
        "\n",
        "###\n",
        "gdown.download(data_url, 'vocab.json', True)\n",
        "vocab_path = 'vocab.json'\n",
        "\n",
        "\n",
        "import json\n",
        "import random\n",
        "\n",
        "def get_annotations(annotations_path):\n",
        "    with open(annotations_path, 'r') as f:\n",
        "      metadata = json.load(f)\n",
        "    return metadata\n",
        "\n",
        "def get_random_annotation(annotations_path):\n",
        "    with open(annotations_path, 'r') as f:\n",
        "      metadata = json.load(f)\n",
        "    i = random.choice(range(len(metadata)))\n",
        "    return metadata[i]\n",
        "\n",
        "# getting data\n",
        "annotations_path = './Annotations/val.json'\n",
        "vocab_path = 'vocab.json'\n",
        "\n",
        "def get_questions(annotations_path):\n",
        "  \n",
        "  with open(annotations_path, 'r') as f:\n",
        "    annos = json.load(f)\n",
        "\n",
        "  questions = set()\n",
        "  for i in range(len(annos)):\n",
        "    if annos[i]['answerable'] == 0:\n",
        "      continue\n",
        "    question = annos[i]['question']\n",
        "    questions.add(question)\n",
        "\n",
        "  return questions\n",
        "  \n",
        "from collections import Counter \n",
        "  \n",
        "def most_frequent(List): \n",
        "    occurence_count = Counter(List) \n",
        "    return occurence_count.most_common(1)[0][0] \n",
        "\n",
        "def get_answers(annotations_path):\n",
        "  with open(annotations_path, 'r') as f:\n",
        "    annos = json.load(f)\n",
        "  answers = set()\n",
        "  for i in range(len(annos)):\n",
        "    if annos[i]['answerable'] == 0:\n",
        "      continue\n",
        "    ans = annos[i]['answers']\n",
        "    answers_list = []\n",
        "    for a in ans:\n",
        "      answers_list += [a['answer']]\n",
        "    answers.add(most_frequent(answers_list))\n",
        "  return answers\n",
        "\n",
        "def get_image_paths(annotations_path):\n",
        "  with open(annotations_path, 'r') as f:\n",
        "    annos = json.load(f)\n",
        "\n",
        "  images = set()\n",
        "  for i in range(len(annos)):\n",
        "    if annos[i]['answerable'] == 0:\n",
        "      continue\n",
        "    image = annos[i]['image']\n",
        "    images.add(image)\n",
        "\n",
        "  return images\n",
        "\n",
        "def parse_vocab(q, a):\n",
        "  vocab = set()\n",
        "  for qu in q:\n",
        "    if '?' in qu:\n",
        "      qu = qu.replace('?', '')\n",
        "\n",
        "    vocab |= set(qu.split(' '))\n",
        "  return vocab\n",
        "\n",
        "## data and ploting\n",
        "import h5py\n",
        "import matplotlib.pyplot as plt\n",
        "\n",
        "def get_data(path):\n",
        "    data = h5py.File(path, 'r')\n",
        "    images = data['images']\n",
        "    image_idx = data['image_indices']\n",
        "    questions = data['questions']\n",
        "    answers = data['answers']\n",
        "    return images, image_idx, questions, answers\n",
        "\n",
        "def plot_image(img, questions=None, answers=None, indices=None):\n",
        "    if indices is None:\n",
        "      plt.imshow(img/255)\n",
        "      plt.show()\n",
        "    else:\n",
        "      for i in indices:\n",
        "        print('Question: ', questions[i])\n",
        "        print('Answer: ', answers[i])\n",
        "        plt.imshow(img[i]/255)\n",
        "        plt.show()\n"
      ],
      "execution_count": null,
      "outputs": [
        {
          "output_type": "stream",
          "text": [
            "Archive:  ./metadata.zip\n",
            "   creating: Annotations/\n",
            "  inflating: Annotations/val.json    \n",
            "  inflating: Annotations/train.json  \n",
            "  inflating: Annotations/test.json   \n"
          ],
          "name": "stdout"
        }
      ]
    },
    {
      "cell_type": "markdown",
      "metadata": {
        "id": "G4r1_Pc3vEKD"
      },
      "source": [
        "# Milestone 1. Understand and visualizing our data"
      ]
    },
    {
      "cell_type": "markdown",
      "metadata": {
        "id": "GbjXNQ0b6fZm"
      },
      "source": [
        "\n",
        "## Activity 1a. What data do we have?\n"
      ]
    },
    {
      "cell_type": "markdown",
      "metadata": {
        "id": "Q4xmAl3AvlJw"
      },
      "source": [
        "### Exercise (Coding)"
      ]
    },
    {
      "cell_type": "markdown",
      "metadata": {
        "id": "4CkYJnMCBFJX"
      },
      "source": [
        "We use the `get_random_annotation(annotations_path)` function to show the format of a visual question."
      ]
    },
    {
      "cell_type": "code",
      "metadata": {
        "id": "QSkCbAg7Jdvt",
        "colab": {
          "base_uri": "https://localhost:8080/"
        },
        "outputId": "0bd60c3f-e716-410b-8bb6-2cbd23ecf00e"
      },
      "source": [
        "# get a table with information about our visual questions\n",
        "metadata = get_random_annotation(annotations_path)\n",
        "\n",
        "# what does it look like?\n",
        "metadata"
      ],
      "execution_count": null,
      "outputs": [
        {
          "output_type": "execute_result",
          "data": {
            "text/plain": [
              "{'answer_type': 'unanswerable',\n",
              " 'answerable': 0,\n",
              " 'answers': [{'answer': 'unsuitable', 'answer_confidence': 'yes'},\n",
              "  {'answer': 'unsuitable', 'answer_confidence': 'yes'},\n",
              "  {'answer': 'unsuitable', 'answer_confidence': 'yes'},\n",
              "  {'answer': 'unsuitable', 'answer_confidence': 'no'},\n",
              "  {'answer': 'image blank', 'answer_confidence': 'yes'},\n",
              "  {'answer': 'nothing', 'answer_confidence': 'yes'},\n",
              "  {'answer': 'unsuitable', 'answer_confidence': 'yes'},\n",
              "  {'answer': 'unsuitable', 'answer_confidence': 'yes'},\n",
              "  {'answer': 'unsuitable', 'answer_confidence': 'yes'},\n",
              "  {'answer': 'unsuitable', 'answer_confidence': 'maybe'}],\n",
              " 'image': 'VizWiz_val_00003248.jpg',\n",
              " 'question': 'What does this say?'}"
            ]
          },
          "metadata": {
            "tags": []
          },
          "execution_count": 2
        }
      ]
    },
    {
      "cell_type": "markdown",
      "metadata": {
        "id": "yUdkpKIIGQW7"
      },
      "source": [
        "## Let's take a look at our preprocessed data!"
      ]
    },
    {
      "cell_type": "markdown",
      "metadata": {
        "id": "fOCUsF5K9sA7"
      },
      "source": [
        "We'll start by loading a subset of our data using `get_data`. \n",
        "\n",
        "\n",
        "`get_data` is a function that **loads** our images and visual questions\n",
        "\n",
        "```\n",
        "images, image_indices, questions, answers = get_data()\n",
        "```\n",
        "\n",
        "`images` is a numpy array of our images, with size `(number of images, 224, 224, 3)`. \n",
        "\n",
        "`image_indices` is a numpy array of our images indices for each q-a pair, with size `(number of q-a pairs,)`.\n",
        "\n",
        "`questions` is a list of questions, with size `(number of q-a pairs, )`.\n",
        "\n",
        "`answers` is a list of answers, with size `(number of q-a pairs, )`. \n",
        "\n",
        "**Let's try loading our data!**"
      ]
    },
    {
      "cell_type": "code",
      "metadata": {
        "id": "rJEKBKd69uhT"
      },
      "source": [
        "images, image_idx, questions, answers = get_data('small.h5')\n",
        "img_idx = image_idx[0]\n",
        "image = images[img_idx]\n",
        "question = questions[0]\n",
        "answer = answers[0]"
      ],
      "execution_count": null,
      "outputs": []
    },
    {
      "cell_type": "code",
      "metadata": {
        "id": "1TkTcYRC94Dj",
        "colab": {
          "base_uri": "https://localhost:8080/"
        },
        "outputId": "7c604a86-429b-4b72-9273-26364b1087e1"
      },
      "source": [
        "print('Our inputs are image question pairs with the output being the answer!')\n",
        "print('Our image is stored as %s in Python'%type(image))\n",
        "print('Our image has dimensions of (%d, %d, %d)'%image.shape)"
      ],
      "execution_count": null,
      "outputs": [
        {
          "output_type": "stream",
          "text": [
            "Our inputs are image question pairs with the output being the answer!\n",
            "Our image is stored as <class 'numpy.ndarray'> in Python\n",
            "Our image has dimensions of (224, 224, 3)\n"
          ],
          "name": "stdout"
        }
      ]
    },
    {
      "cell_type": "markdown",
      "metadata": {
        "id": "at6q_Li7zJXi"
      },
      "source": [
        "**Visualize single data points with plot_image**"
      ]
    },
    {
      "cell_type": "markdown",
      "metadata": {
        "id": "_WxXax6-FkMj"
      },
      "source": [
        "Let's see a single data point. \n",
        "\n",
        "`plot_image` can take in either one image or many images. To use it with one image that is 3D, call:\n",
        "\n",
        "```\n",
        "plot_image(image)\n",
        "```\n",
        "\n",
        "To use it with many images, call:\n",
        "\n",
        "\n",
        "```\n",
        "plot_image(images, questions, answers, indices)\n",
        "```\n",
        "\n",
        "where:\n",
        "* `images`: all of our images in one array\n",
        "* `questions`: the questions corresponding to the images\n",
        "* `answers`: the answers corresponding to the image-question pairs\n",
        "* `indices`: which images we want to see\n"
      ]
    },
    {
      "cell_type": "code",
      "metadata": {
        "id": "HJibNL7CzXrl",
        "colab": {
          "base_uri": "https://localhost:8080/",
          "height": 354
        },
        "outputId": "1b3670a7-0b9c-484d-acf9-fc95b2e3ed3d"
      },
      "source": [
        "# plot a SINGLE image\n",
        "### YOUR CODE HERE\n",
        "plot_image(images, questions, answers, [0])\n",
        "### END CODE"
      ],
      "execution_count": null,
      "outputs": [
        {
          "output_type": "stream",
          "text": [
            "Question:  [1.000e+00 7.470e+02 7.050e+02 1.150e+02 4.130e+02 3.470e+02 3.040e+02\n",
            " 1.326e+03 5.460e+02 7.600e+02 1.081e+03 3.000e+00 0.000e+00 0.000e+00\n",
            " 0.000e+00 0.000e+00 0.000e+00 0.000e+00 0.000e+00 0.000e+00]\n",
            "Answer:  [1.000e+00 1.496e+03 6.090e+02 3.000e+00 0.000e+00 0.000e+00 0.000e+00\n",
            " 0.000e+00 0.000e+00 0.000e+00]\n"
          ],
          "name": "stdout"
        },
        {
          "output_type": "display_data",
          "data": {
            "image/png": "[encoded data removed]",
            "text/plain": [
              "<Figure size 432x288 with 1 Axes>"
            ]
          },
          "metadata": {
            "tags": [],
            "needs_background": "light"
          }
        }
      ]
    },
    {
      "cell_type": "markdown",
      "metadata": {
        "id": "lmaAKTgF6lJI"
      },
      "source": [
        "\n",
        "# Milestone 2. Language only: LSTM-only model for our VQA data\n"
      ]
    },
    {
      "cell_type": "markdown",
      "metadata": {
        "id": "JA2tfXWP6lq5"
      },
      "source": [
        "\n",
        "## Activity 2a. Defining our machine learning problem"
      ]
    },
    {
      "cell_type": "markdown",
      "metadata": {
        "id": "TgcE5wc7-MYM"
      },
      "source": [
        "We explore our problem in terms of language only models. \n",
        "We train a ***bare LSTM model*** and see its performance in our data."
      ]
    },
    {
      "cell_type": "markdown",
      "metadata": {
        "id": "ke6JF4cQ88dA"
      },
      "source": [
        "### Exercise (Discussion) "
      ]
    },
    {
      "cell_type": "markdown",
      "metadata": {
        "id": "z457gSlfVurn"
      },
      "source": [
        "What WILL our model look like? Let's define our **inputs** and **outputs**.\n",
        "\n",
        "Will a bare LSTM model perform well on this?"
      ]
    },
    {
      "cell_type": "code",
      "metadata": {
        "id": "Tx5vAivA9bLK",
        "colab": {
          "base_uri": "https://localhost:8080/"
        },
        "outputId": "c39b3d03-f463-49fc-9bd5-360f0a963620"
      },
      "source": [
        "#@title How will our model operate? { display-mode: \"form\" }\n",
        "\n",
        "#@markdown What are our inputs? \n",
        "inputs = \"questions only\" #@param [\"images+questions\", \"images only\", \"questions only\", \"answers\", \"FillMe\"]\n",
        "\n",
        "#@markdown What are our outputs? \n",
        "outputs = \"answers\" #@param [\"images+questions\", \"images\", \"image edges\", \"answers\", \"FillMe\"]\n",
        "\n",
        "\n",
        "#@markdown Will a bare LSTM do well in this task? \n",
        "problem_type  = \"yes\" #@param [\"yes\", \"no\", \"choose answer\"]\n",
        "\n",
        "\n",
        "if inputs == \"questions only\":\n",
        "  print(\"Yes, in this specific case our inputs are only questions!\")\n",
        "else:\n",
        "  print('Not quite our inputs.')\n",
        "\n",
        "if outputs == \"answers\":\n",
        "  print(\"Yes, our outputs are answers!\")\n",
        "else:\n",
        "  print('Not quite our outputs.')\n",
        "  \n",
        "if problem_type == \"choose answer\":\n",
        "  print(\"Choose an answer por favor!\")\n",
        "else:\n",
        "  print('Well! Let\\'s train such a model and then we can answer this question.')"
      ],
      "execution_count": null,
      "outputs": [
        {
          "output_type": "stream",
          "text": [
            "Yes, in this specific case our inputs are only questions!\n",
            "Yes, our outputs are answers!\n",
            "Well! Let's train such a model and then we can answer this question.\n"
          ],
          "name": "stdout"
        }
      ]
    },
    {
      "cell_type": "markdown",
      "metadata": {
        "id": "KLGqxv3UwYnh"
      },
      "source": [
        "## Activity 2b. Building our model\n",
        "\n",
        "As we said in the previous exercise, our data points will be composed of preprocessed questions and answers without the images. \n",
        "\n",
        "We now build our model."
      ]
    },
    {
      "cell_type": "markdown",
      "metadata": {
        "id": "TVpNck1f6mMZ"
      },
      "source": [
        "### Exercise (Coding)\n"
      ]
    },
    {
      "cell_type": "code",
      "metadata": {
        "id": "qeucolNdKAVP",
        "colab": {
          "base_uri": "https://localhost:8080/"
        },
        "outputId": "da1ce256-700d-4999-e166-97f724e2a2fd"
      },
      "source": [
        "#@title Run this to prepare our functions! { display-mode: \"form\" }\n",
        "\n",
        "\n",
        "from keras.models import Sequential, Model\n",
        "from keras.layers import Input, Dense, Activation, Dropout, LSTM, Flatten, Embedding, multiply\n",
        "import h5py\n",
        "\n",
        "def BareLSTMModel(embedding, vocab_size, q_lengths = 20, \n",
        "                  num_layers = 2, hidden_size=512, \n",
        "                  embedding_size=100, num_classes = 30,\n",
        "                  dropout_rate=0.5):\n",
        "\n",
        "  language_model = Sequential()\n",
        "  language_model.add(Embedding(vocab_size, embedding_size, \n",
        "                    weights=[embedding], input_length=q_lengths, \n",
        "                    trainable=False))\n",
        "  language_model.add(LSTM(hidden_size, return_sequences=True, \n",
        "                          input_shape=(q_lengths, embedding_size)))\n",
        "  for i in range(num_layers-2):\n",
        "      language_model.add(LSTM(hidden_size, return_sequences=True))\n",
        "  language_model.add(LSTM(hidden_size, return_sequences=False))\n",
        "  language_model.add(Dropout(dropout_rate))\n",
        "  language_model.add(Dense(num_classes, activation='softmax'))\n",
        "\n",
        "  return language_model\n",
        "\n",
        "\n",
        "#cite Ranjay's IQ paper for code\n",
        "import nltk\n",
        "import re\n",
        "import numpy as np\n",
        "nltk.download('punkt')\n",
        "\n",
        "class Vocabulary(object):\n",
        "\n",
        "    def __init__(self):\n",
        "        \"\"\"Constructor for Vocabulary.\n",
        "        \"\"\"\n",
        "        # Init mappings between words and ids\n",
        "        self.word2idx = {}\n",
        "        self.idx2word = {}\n",
        "        self.idx = 0\n",
        "        self.add_word('<pad>')\n",
        "        self.add_word('<start>')\n",
        "        self.add_word('<end>')\n",
        "        self.add_word('<unk>')\n",
        "\n",
        "    def add_word(self, word):\n",
        "        if word not in self.word2idx:\n",
        "          self.word2idx[word] = self.idx\n",
        "          self.idx2word[self.idx] = word\n",
        "          self.idx += 1\n",
        "\n",
        "    def __call__(self, word):\n",
        "        if word not in self.word2idx:\n",
        "            return self.word2idx['<unk>']\n",
        "        return self.word2idx[word]\n",
        "\n",
        "    def __len__(self):\n",
        "        return len(self.word2idx)\n",
        "\n",
        "    def save_vocab(self, location):\n",
        "        with open(location, 'w') as f:\n",
        "            json.dump({'word2idx': self.word2idx,\n",
        "                       'idx2word': self.idx2word,\n",
        "                       'idx': self.idx}, f)\n",
        "\n",
        "    def load_vocab(self, location):\n",
        "        with open(location, 'r') as f:\n",
        "            data = json.load(f)\n",
        "            self.word2idx = data['word2idx']\n",
        "            self.idx2word = data['idx2word']\n",
        "            self.idx = data['idx']\n",
        "\n",
        "    def decode_sentence(self, tokens):\n",
        "        words = []\n",
        "        for token in tokens:\n",
        "            word = self.idx2word[str(token)]\n",
        "            if word == '<end>':\n",
        "                break\n",
        "            if word not in ['<pad>', '<start>', \n",
        "                            '<end>', '<unk>']:\n",
        "                words.append(word)\n",
        "        return ' '.join(words)\n",
        "\n",
        "def load_vocab(vocab_path):\n",
        "    vocab = Vocabulary()\n",
        "    vocab.load_vocab(vocab_path)\n",
        "    return vocab\n",
        "\n",
        "def get_embeddings(path):\n",
        "  matrix = h5py.File(path, 'r')\n",
        "  return matrix['embedding_matrix'][()]\n",
        "\n",
        "from keras.utils.np_utils import to_categorical\n",
        "\n",
        "def prepare_data(data_path):\n",
        "    data = h5py.File(data_path, 'r')\n",
        "\n",
        "    questions = data['questions'][()]\n",
        "    answers = to_categorical(data['answers'][()])\n",
        "    return questions, answers"
      ],
      "execution_count": null,
      "outputs": [
        {
          "output_type": "stream",
          "text": [
            "[nltk_data] Downloading package punkt to /root/nltk_data...\n",
            "[nltk_data]   Unzipping tokenizers/punkt.zip.\n"
          ],
          "name": "stdout"
        }
      ]
    },
    {
      "cell_type": "markdown",
      "metadata": {
        "id": "93WOHcjxsWHT"
      },
      "source": [
        "In order to build our model, we use the following function:\n",
        "\n",
        "`BareLSTMModel(embeddings, vocab_size, embedding_dim)`\n",
        "\n",
        "where `embeddings` is our embedding matrix, `vocab_size` is our vocabulary size and `embedding_dim` represents our embedding dimensions. \n",
        "\n",
        "Before we do so, we need to load our embedding matrix and our vocab.\n",
        "\n",
        "Make sure to use `get_embeddings(embeddings_path)` to load the embedding matrix and `load_vocab(vocab_path)` for our vocab.\n"
      ]
    },
    {
      "cell_type": "code",
      "metadata": {
        "id": "piJP1XsfU9w9",
        "colab": {
          "base_uri": "https://localhost:8080/"
        },
        "outputId": "542c60bd-d95f-4806-9fd6-693b200f0580"
      },
      "source": [
        "### YOUR CODE HERE\n",
        "embedding_matrix = get_embeddings(embeddings_path)\n",
        "vocab = load_vocab(vocab_path)\n",
        "BareLSTMModel(embedding_matrix, len(vocab), embedding_matrix.shape[1])\n",
        "### END CODE"
      ],
      "execution_count": null,
      "outputs": [
        {
          "output_type": "execute_result",
          "data": {
            "text/plain": [
              "<keras.engine.sequential.Sequential at 0x7f07e9876cd0>"
            ]
          },
          "metadata": {
            "tags": []
          },
          "execution_count": 23
        }
      ]
    },
    {
      "cell_type": "markdown",
      "metadata": {
        "id": "qOwGddsZXDfr"
      },
      "source": [
        "#### Visualizing our embeddings"
      ]
    },
    {
      "cell_type": "code",
      "metadata": {
        "id": "Hc85A8G_XCrc",
        "colab": {
          "base_uri": "https://localhost:8080/"
        },
        "outputId": "74e85ba7-5d7e-44f8-9a76-0c54dd16d5b2"
      },
      "source": [
        "#@title Choose an index in our vocab\n",
        "\n",
        "index = \"566\" #@param {type:\"string\"}\n",
        "\n",
        "if int(index) < vocab.idx:\n",
        "  print(\"Our original word is: %s\"%(vocab.idx2word[index]))\n",
        "  print(\"The given embbeding is: \", embedding_matrix[int(index)])\n",
        "else:\n",
        "  print(\"Choose an index less than %d\"%vocab.idx)"
      ],
      "execution_count": null,
      "outputs": [
        {
          "output_type": "stream",
          "text": [
            "Our original word is: alright\n",
            "The given embbeding is:  [ 0.34696001  0.27195999  0.58310002 -0.71454    -0.25981     0.42778\n",
            "  0.52034003  0.51668     0.36173001  0.17199001  0.85795999  0.44464999\n",
            "  0.91334999  0.26075    -0.16007    -0.66267997 -0.61489999  0.56620002\n",
            "  0.44053999  0.50572997  0.59309    -0.13132     0.22593001  0.3125\n",
            " -0.22834     0.99056    -0.10247     0.13601001  0.38708001  0.40551001\n",
            " -1.05299997 -0.038115    0.91953999  1.08080006 -0.067598    0.65171999\n",
            " -0.32633001  0.04631     0.066399   -1.39279997  0.64115     0.94349003\n",
            " -0.14767     0.30619001 -0.74065    -0.17098001 -0.32251999 -0.094326\n",
            "  0.19677    -0.40817001 -0.57944    -0.40625     0.22435001 -0.075555\n",
            " -1.08959997 -0.35389999  1.38929999  0.66215998 -0.71144003  0.0090401\n",
            " -0.027667    0.74330997 -1.17470002 -0.040451    0.80282003  0.38209999\n",
            "  0.44452     0.80046999 -0.2156     -0.92224002  0.77203    -0.11968\n",
            "  0.37932     0.034341    0.97012001  0.27052    -0.20457     0.77065998\n",
            "  0.55150998 -0.26636001 -0.47097999 -1.06760001 -0.53678     0.54089999\n",
            " -0.62211001 -0.13185    -0.43204999 -0.10942    -0.97431999 -0.00825\n",
            " -0.094703   -0.12896    -0.069476    0.054902    0.11906    -0.25123\n",
            "  0.78719997  0.19572    -0.10706    -0.060451  ]\n"
          ],
          "name": "stdout"
        }
      ]
    },
    {
      "cell_type": "markdown",
      "metadata": {
        "id": "hMD67J3MIZK6"
      },
      "source": [
        "####Let's build our model now!\n",
        "\n",
        "Use `BareLSTMModel(embedding, len(vocab))` and make sure to specify the right parameters."
      ]
    },
    {
      "cell_type": "code",
      "metadata": {
        "id": "tySX5E1nIYW1",
        "cellView": "both"
      },
      "source": [
        "### YOUR CODE HERE\n",
        "model = BareLSTMModel(embedding_matrix, len(vocab), num_layers=3, dropout_rate = 0.4)\n",
        "### END CODE"
      ],
      "execution_count": null,
      "outputs": []
    },
    {
      "cell_type": "markdown",
      "metadata": {
        "id": "OpFscgpDdLck"
      },
      "source": [
        "Let's visualize our model!"
      ]
    },
    {
      "cell_type": "code",
      "metadata": {
        "id": "pRQZ2a5fdP6p",
        "colab": {
          "base_uri": "https://localhost:8080/",
          "height": 754
        },
        "outputId": "fc5efdfb-f650-4032-9b1b-72eda620863d"
      },
      "source": [
        "plot_model(model, to_file='model_plot.png', show_shapes=True, show_layer_names=True)"
      ],
      "execution_count": null,
      "outputs": [
        {
          "output_type": "execute_result",
          "data": {
            "image/png": "[encoded data removed]",
            "text/plain": [
              "<IPython.core.display.Image object>"
            ]
          },
          "metadata": {
            "tags": []
          },
          "execution_count": 14
        }
      ]
    },
    {
      "cell_type": "markdown",
      "metadata": {
        "id": "CEKcyS1625HM"
      },
      "source": [
        "## Activity 2c. Preparing our data\n",
        "\n",
        "With our model ready, we need to prepare our questions and answers.\n",
        "\n",
        "In order to do so, we use the following function:\n",
        "\n",
        "```tokenized_questions, tokenized_answers = prepare_data(train_path)```\n",
        "\n",
        "\n"
      ]
    },
    {
      "cell_type": "code",
      "metadata": {
        "id": "VAkpFExw4R1k"
      },
      "source": [
        "### YOUR CODE HERE\n",
        "toeknized_questions, tokenized_answers = prepare_data(train_path)\n",
        "### END CODE"
      ],
      "execution_count": null,
      "outputs": []
    },
    {
      "cell_type": "markdown",
      "metadata": {
        "id": "qTrPEU9zV7Oe"
      },
      "source": [
        "##Activity 2d. Training our model\n",
        "\n",
        "We built our model and prepared our data. Now, let's train our model!\n",
        "\n",
        "We use `model.fit`.\n"
      ]
    },
    {
      "cell_type": "code",
      "metadata": {
        "colab": {
          "base_uri": "https://localhost:8080/"
        },
        "id": "sW7PF8lZbT_H",
        "outputId": "09da6532-8d53-4ad8-9b3f-303c45803d28"
      },
      "source": [
        "### YOUR CODE HERE\n",
        "model.compile(optimizer = 'rmsprop', loss='categorical_crossentropy', metrics=['accuracy'])\n",
        "model.fit(toeknized_questions, tokenized_answers, batch_size = 64, epochs = 2, validation_split=0.2)\n",
        "### END CODE"
      ],
      "execution_count": null,
      "outputs": [
        {
          "output_type": "stream",
          "text": [
            "Epoch 1/2\n",
            "59/59 [==============================] - 101s 2s/step - loss: 3.2220 - accuracy: 0.1572 - val_loss: 3.0019 - val_accuracy: 0.1358\n",
            "Epoch 2/2\n",
            "59/59 [==============================] - 91s 2s/step - loss: 2.4734 - accuracy: 0.2402 - val_loss: 2.1283 - val_accuracy: 0.2984\n"
          ],
          "name": "stdout"
        },
        {
          "output_type": "execute_result",
          "data": {
            "text/plain": [
              "<keras.callbacks.History at 0x7f07e9d69ed0>"
            ]
          },
          "metadata": {
            "tags": []
          },
          "execution_count": 16
        }
      ]
    },
    {
      "cell_type": "markdown",
      "metadata": {
        "id": "c7Kepm8MomEE"
      },
      "source": [
        "## Activity 2e. Evaluating our model\n",
        "\n",
        "After training our model, we now evaluate it on our validation set.\n",
        "\n",
        "We specify our validation set path in `val_path`. \n",
        "\n",
        "Make sure you prepare the data using the `prepare_data(path)` function and evaluate our model using `model.evaluate` "
      ]
    },
    {
      "cell_type": "code",
      "metadata": {
        "id": "0xPExvGRos3z",
        "colab": {
          "base_uri": "https://localhost:8080/"
        },
        "outputId": "9dac446c-c732-40ab-fdfc-b5b9e79c9183"
      },
      "source": [
        "### YOUR CODE HERE\n",
        "valQs, valQa = prepare_data(val_path)\n",
        "model.evaluate(valQs, valQa)\n",
        "### END CODE"
      ],
      "execution_count": null,
      "outputs": [
        {
          "output_type": "stream",
          "text": [
            "28/28 [==============================] - 5s 191ms/step - loss: 2.0388 - accuracy: 0.3103\n"
          ],
          "name": "stdout"
        },
        {
          "output_type": "execute_result",
          "data": {
            "text/plain": [
              "[2.0387589931488037, 0.3103448152542114]"
            ]
          },
          "metadata": {
            "tags": []
          },
          "execution_count": 17
        }
      ]
    },
    {
      "cell_type": "markdown",
      "metadata": {
        "id": "P5cW-2jqkLjg"
      },
      "source": [
        "Make sure to run the model with different parameters and more epochs to get better performance!\n",
        "\n",
        "## Discussion\n",
        "How good do you think the model is?\n",
        "\n",
        "Can this model be a reliable asset for the blind?\n",
        "\n",
        "Do you think we can do better with ***image data***? and why?"
      ]
    },
    {
      "cell_type": "markdown",
      "metadata": {
        "id": "eUCGQFdno3AG"
      },
      "source": [
        "## (Optional Activity) Let's finetune our model!\n",
        "\n",
        "Try to train our model with a different set of parameters in order to maximize our performance. \n",
        "\n",
        "We specify the variable that will be tuned. Make sure to change these values to improve our model!"
      ]
    },
    {
      "cell_type": "code",
      "metadata": {
        "id": "a1qEXBmppv4K"
      },
      "source": [
        "model_weights_filename = 'bareLSTM.h5'\n",
        "### MAKE SURE TO CHANGE THE VARIABLES BELOW!!!\n",
        "epochs = 10 # number of epochs\n",
        "num_layers = 1 # number of RNN layers\n",
        "hidden_size = 256 # size of each layer\n",
        "batch_size = 64 # batch size\n",
        "dropout_rate = 0.5 # Dropout rate\n",
        "### END CODE"
      ],
      "execution_count": null,
      "outputs": []
    },
    {
      "cell_type": "code",
      "metadata": {
        "id": "B8LWHmRZpwAs",
        "colab": {
          "base_uri": "https://localhost:8080/",
          "height": 854
        },
        "outputId": "504ea83c-2a14-4ffa-baa3-2f5094fb8afd"
      },
      "source": [
        "#@title Run this to initialize and run our model! { display-mode: \"form\" }\n",
        "### YOUR CODE HERE\n",
        "embedding_dim = 100\n",
        "model = BareLSTMModel(embedding_matrix, len(vocab),\n",
        "                      num_layers=num_layers, \n",
        "                      hidden_size=hidden_size,\n",
        "                      dropout_rate= dropout_rate)\n",
        "model.compile(optimizer='rmsprop', loss='categorical_crossentropy',\n",
        "        metrics=['accuracy'])\n",
        "model.fit(questions, answers, epochs=epochs, batch_size=batch_size, shuffle=True)\n",
        "model.save_weights(model_weights_filename, overwrite=True)\n",
        "### END CODE"
      ],
      "execution_count": null,
      "outputs": [
        {
          "output_type": "stream",
          "text": [
            "WARNING:tensorflow:Keras is training/fitting/evaluating on array-like data. Keras may not be optimized for this format, so if your input data format is supported by TensorFlow I/O (https://github.com/tensorflow/io) we recommend using that to load a Dataset instead.\n",
            "Epoch 1/10\n"
          ],
          "name": "stdout"
        },
        {
          "output_type": "error",
          "ename": "ValueError",
          "evalue": "ignored",
          "traceback": [
            "\u001b[0;31m---------------------------------------------------------------------------\u001b[0m",
            "\u001b[0;31mValueError\u001b[0m                                Traceback (most recent call last)",
            "\u001b[0;32m<ipython-input-19-d4860390b551>\u001b[0m in \u001b[0;36m<module>\u001b[0;34m()\u001b[0m\n\u001b[1;32m      8\u001b[0m model.compile(optimizer='rmsprop', loss='categorical_crossentropy',\n\u001b[1;32m      9\u001b[0m         metrics=['accuracy'])\n\u001b[0;32m---> 10\u001b[0;31m \u001b[0mmodel\u001b[0m\u001b[0;34m.\u001b[0m\u001b[0mfit\u001b[0m\u001b[0;34m(\u001b[0m\u001b[0mquestions\u001b[0m\u001b[0;34m,\u001b[0m \u001b[0manswers\u001b[0m\u001b[0;34m,\u001b[0m \u001b[0mepochs\u001b[0m\u001b[0;34m=\u001b[0m\u001b[0mepochs\u001b[0m\u001b[0;34m,\u001b[0m \u001b[0mbatch_size\u001b[0m\u001b[0;34m=\u001b[0m\u001b[0mbatch_size\u001b[0m\u001b[0;34m,\u001b[0m \u001b[0mshuffle\u001b[0m\u001b[0;34m=\u001b[0m\u001b[0;32mTrue\u001b[0m\u001b[0;34m)\u001b[0m\u001b[0;34m\u001b[0m\u001b[0;34m\u001b[0m\u001b[0m\n\u001b[0m\u001b[1;32m     11\u001b[0m \u001b[0mmodel\u001b[0m\u001b[0;34m.\u001b[0m\u001b[0msave_weights\u001b[0m\u001b[0;34m(\u001b[0m\u001b[0mmodel_weights_filename\u001b[0m\u001b[0;34m,\u001b[0m \u001b[0moverwrite\u001b[0m\u001b[0;34m=\u001b[0m\u001b[0;32mTrue\u001b[0m\u001b[0;34m)\u001b[0m\u001b[0;34m\u001b[0m\u001b[0;34m\u001b[0m\u001b[0m\n\u001b[1;32m     12\u001b[0m \u001b[0;31m### END CODE\u001b[0m\u001b[0;34m\u001b[0m\u001b[0;34m\u001b[0m\u001b[0;34m\u001b[0m\u001b[0m\n",
            "\u001b[0;32m/usr/local/lib/python3.7/dist-packages/keras/engine/training.py\u001b[0m in \u001b[0;36mfit\u001b[0;34m(self, x, y, batch_size, epochs, verbose, callbacks, validation_split, validation_data, shuffle, class_weight, sample_weight, initial_epoch, steps_per_epoch, validation_steps, validation_batch_size, validation_freq, max_queue_size, workers, use_multiprocessing)\u001b[0m\n\u001b[1;32m   1156\u001b[0m                 _r=1):\n\u001b[1;32m   1157\u001b[0m               \u001b[0mcallbacks\u001b[0m\u001b[0;34m.\u001b[0m\u001b[0mon_train_batch_begin\u001b[0m\u001b[0;34m(\u001b[0m\u001b[0mstep\u001b[0m\u001b[0;34m)\u001b[0m\u001b[0;34m\u001b[0m\u001b[0;34m\u001b[0m\u001b[0m\n\u001b[0;32m-> 1158\u001b[0;31m               \u001b[0mtmp_logs\u001b[0m \u001b[0;34m=\u001b[0m \u001b[0mself\u001b[0m\u001b[0;34m.\u001b[0m\u001b[0mtrain_function\u001b[0m\u001b[0;34m(\u001b[0m\u001b[0miterator\u001b[0m\u001b[0;34m)\u001b[0m\u001b[0;34m\u001b[0m\u001b[0;34m\u001b[0m\u001b[0m\n\u001b[0m\u001b[1;32m   1159\u001b[0m               \u001b[0;32mif\u001b[0m \u001b[0mdata_handler\u001b[0m\u001b[0;34m.\u001b[0m\u001b[0mshould_sync\u001b[0m\u001b[0;34m:\u001b[0m\u001b[0;34m\u001b[0m\u001b[0;34m\u001b[0m\u001b[0m\n\u001b[1;32m   1160\u001b[0m                 \u001b[0mcontext\u001b[0m\u001b[0;34m.\u001b[0m\u001b[0masync_wait\u001b[0m\u001b[0;34m(\u001b[0m\u001b[0;34m)\u001b[0m\u001b[0;34m\u001b[0m\u001b[0;34m\u001b[0m\u001b[0m\n",
            "\u001b[0;32m/usr/local/lib/python3.7/dist-packages/tensorflow/python/eager/def_function.py\u001b[0m in \u001b[0;36m__call__\u001b[0;34m(self, *args, **kwds)\u001b[0m\n\u001b[1;32m    887\u001b[0m \u001b[0;34m\u001b[0m\u001b[0m\n\u001b[1;32m    888\u001b[0m       \u001b[0;32mwith\u001b[0m \u001b[0mOptionalXlaContext\u001b[0m\u001b[0;34m(\u001b[0m\u001b[0mself\u001b[0m\u001b[0;34m.\u001b[0m\u001b[0m_jit_compile\u001b[0m\u001b[0;34m)\u001b[0m\u001b[0;34m:\u001b[0m\u001b[0;34m\u001b[0m\u001b[0;34m\u001b[0m\u001b[0m\n\u001b[0;32m--> 889\u001b[0;31m         \u001b[0mresult\u001b[0m \u001b[0;34m=\u001b[0m \u001b[0mself\u001b[0m\u001b[0;34m.\u001b[0m\u001b[0m_call\u001b[0m\u001b[0;34m(\u001b[0m\u001b[0;34m*\u001b[0m\u001b[0margs\u001b[0m\u001b[0;34m,\u001b[0m \u001b[0;34m**\u001b[0m\u001b[0mkwds\u001b[0m\u001b[0;34m)\u001b[0m\u001b[0;34m\u001b[0m\u001b[0;34m\u001b[0m\u001b[0m\n\u001b[0m\u001b[1;32m    890\u001b[0m \u001b[0;34m\u001b[0m\u001b[0m\n\u001b[1;32m    891\u001b[0m       \u001b[0mnew_tracing_count\u001b[0m \u001b[0;34m=\u001b[0m \u001b[0mself\u001b[0m\u001b[0;34m.\u001b[0m\u001b[0mexperimental_get_tracing_count\u001b[0m\u001b[0;34m(\u001b[0m\u001b[0;34m)\u001b[0m\u001b[0;34m\u001b[0m\u001b[0;34m\u001b[0m\u001b[0m\n",
            "\u001b[0;32m/usr/local/lib/python3.7/dist-packages/tensorflow/python/eager/def_function.py\u001b[0m in \u001b[0;36m_call\u001b[0;34m(self, *args, **kwds)\u001b[0m\n\u001b[1;32m    931\u001b[0m       \u001b[0;31m# This is the first call of __call__, so we have to initialize.\u001b[0m\u001b[0;34m\u001b[0m\u001b[0;34m\u001b[0m\u001b[0;34m\u001b[0m\u001b[0m\n\u001b[1;32m    932\u001b[0m       \u001b[0minitializers\u001b[0m \u001b[0;34m=\u001b[0m \u001b[0;34m[\u001b[0m\u001b[0;34m]\u001b[0m\u001b[0;34m\u001b[0m\u001b[0;34m\u001b[0m\u001b[0m\n\u001b[0;32m--> 933\u001b[0;31m       \u001b[0mself\u001b[0m\u001b[0;34m.\u001b[0m\u001b[0m_initialize\u001b[0m\u001b[0;34m(\u001b[0m\u001b[0margs\u001b[0m\u001b[0;34m,\u001b[0m \u001b[0mkwds\u001b[0m\u001b[0;34m,\u001b[0m \u001b[0madd_initializers_to\u001b[0m\u001b[0;34m=\u001b[0m\u001b[0minitializers\u001b[0m\u001b[0;34m)\u001b[0m\u001b[0;34m\u001b[0m\u001b[0;34m\u001b[0m\u001b[0m\n\u001b[0m\u001b[1;32m    934\u001b[0m     \u001b[0;32mfinally\u001b[0m\u001b[0;34m:\u001b[0m\u001b[0;34m\u001b[0m\u001b[0;34m\u001b[0m\u001b[0m\n\u001b[1;32m    935\u001b[0m       \u001b[0;31m# At this point we know that the initialization is complete (or less\u001b[0m\u001b[0;34m\u001b[0m\u001b[0;34m\u001b[0m\u001b[0;34m\u001b[0m\u001b[0m\n",
            "\u001b[0;32m/usr/local/lib/python3.7/dist-packages/tensorflow/python/eager/def_function.py\u001b[0m in \u001b[0;36m_initialize\u001b[0;34m(self, args, kwds, add_initializers_to)\u001b[0m\n\u001b[1;32m    762\u001b[0m     self._concrete_stateful_fn = (\n\u001b[1;32m    763\u001b[0m         self._stateful_fn._get_concrete_function_internal_garbage_collected(  # pylint: disable=protected-access\n\u001b[0;32m--> 764\u001b[0;31m             *args, **kwds))\n\u001b[0m\u001b[1;32m    765\u001b[0m \u001b[0;34m\u001b[0m\u001b[0m\n\u001b[1;32m    766\u001b[0m     \u001b[0;32mdef\u001b[0m \u001b[0minvalid_creator_scope\u001b[0m\u001b[0;34m(\u001b[0m\u001b[0;34m*\u001b[0m\u001b[0munused_args\u001b[0m\u001b[0;34m,\u001b[0m \u001b[0;34m**\u001b[0m\u001b[0munused_kwds\u001b[0m\u001b[0;34m)\u001b[0m\u001b[0;34m:\u001b[0m\u001b[0;34m\u001b[0m\u001b[0;34m\u001b[0m\u001b[0m\n",
            "\u001b[0;32m/usr/local/lib/python3.7/dist-packages/tensorflow/python/eager/function.py\u001b[0m in \u001b[0;36m_get_concrete_function_internal_garbage_collected\u001b[0;34m(self, *args, **kwargs)\u001b[0m\n\u001b[1;32m   3048\u001b[0m       \u001b[0margs\u001b[0m\u001b[0;34m,\u001b[0m \u001b[0mkwargs\u001b[0m \u001b[0;34m=\u001b[0m \u001b[0;32mNone\u001b[0m\u001b[0;34m,\u001b[0m \u001b[0;32mNone\u001b[0m\u001b[0;34m\u001b[0m\u001b[0;34m\u001b[0m\u001b[0m\n\u001b[1;32m   3049\u001b[0m     \u001b[0;32mwith\u001b[0m \u001b[0mself\u001b[0m\u001b[0;34m.\u001b[0m\u001b[0m_lock\u001b[0m\u001b[0;34m:\u001b[0m\u001b[0;34m\u001b[0m\u001b[0;34m\u001b[0m\u001b[0m\n\u001b[0;32m-> 3050\u001b[0;31m       \u001b[0mgraph_function\u001b[0m\u001b[0;34m,\u001b[0m \u001b[0m_\u001b[0m \u001b[0;34m=\u001b[0m \u001b[0mself\u001b[0m\u001b[0;34m.\u001b[0m\u001b[0m_maybe_define_function\u001b[0m\u001b[0;34m(\u001b[0m\u001b[0margs\u001b[0m\u001b[0;34m,\u001b[0m \u001b[0mkwargs\u001b[0m\u001b[0;34m)\u001b[0m\u001b[0;34m\u001b[0m\u001b[0;34m\u001b[0m\u001b[0m\n\u001b[0m\u001b[1;32m   3051\u001b[0m     \u001b[0;32mreturn\u001b[0m \u001b[0mgraph_function\u001b[0m\u001b[0;34m\u001b[0m\u001b[0;34m\u001b[0m\u001b[0m\n\u001b[1;32m   3052\u001b[0m \u001b[0;34m\u001b[0m\u001b[0m\n",
            "\u001b[0;32m/usr/local/lib/python3.7/dist-packages/tensorflow/python/eager/function.py\u001b[0m in \u001b[0;36m_maybe_define_function\u001b[0;34m(self, args, kwargs)\u001b[0m\n\u001b[1;32m   3442\u001b[0m \u001b[0;34m\u001b[0m\u001b[0m\n\u001b[1;32m   3443\u001b[0m           \u001b[0mself\u001b[0m\u001b[0;34m.\u001b[0m\u001b[0m_function_cache\u001b[0m\u001b[0;34m.\u001b[0m\u001b[0mmissed\u001b[0m\u001b[0;34m.\u001b[0m\u001b[0madd\u001b[0m\u001b[0;34m(\u001b[0m\u001b[0mcall_context_key\u001b[0m\u001b[0;34m)\u001b[0m\u001b[0;34m\u001b[0m\u001b[0;34m\u001b[0m\u001b[0m\n\u001b[0;32m-> 3444\u001b[0;31m           \u001b[0mgraph_function\u001b[0m \u001b[0;34m=\u001b[0m \u001b[0mself\u001b[0m\u001b[0;34m.\u001b[0m\u001b[0m_create_graph_function\u001b[0m\u001b[0;34m(\u001b[0m\u001b[0margs\u001b[0m\u001b[0;34m,\u001b[0m \u001b[0mkwargs\u001b[0m\u001b[0;34m)\u001b[0m\u001b[0;34m\u001b[0m\u001b[0;34m\u001b[0m\u001b[0m\n\u001b[0m\u001b[1;32m   3445\u001b[0m           \u001b[0mself\u001b[0m\u001b[0;34m.\u001b[0m\u001b[0m_function_cache\u001b[0m\u001b[0;34m.\u001b[0m\u001b[0mprimary\u001b[0m\u001b[0;34m[\u001b[0m\u001b[0mcache_key\u001b[0m\u001b[0;34m]\u001b[0m \u001b[0;34m=\u001b[0m \u001b[0mgraph_function\u001b[0m\u001b[0;34m\u001b[0m\u001b[0;34m\u001b[0m\u001b[0m\n\u001b[1;32m   3446\u001b[0m \u001b[0;34m\u001b[0m\u001b[0m\n",
            "\u001b[0;32m/usr/local/lib/python3.7/dist-packages/tensorflow/python/eager/function.py\u001b[0m in \u001b[0;36m_create_graph_function\u001b[0;34m(self, args, kwargs, override_flat_arg_shapes)\u001b[0m\n\u001b[1;32m   3287\u001b[0m             \u001b[0marg_names\u001b[0m\u001b[0;34m=\u001b[0m\u001b[0marg_names\u001b[0m\u001b[0;34m,\u001b[0m\u001b[0;34m\u001b[0m\u001b[0;34m\u001b[0m\u001b[0m\n\u001b[1;32m   3288\u001b[0m             \u001b[0moverride_flat_arg_shapes\u001b[0m\u001b[0;34m=\u001b[0m\u001b[0moverride_flat_arg_shapes\u001b[0m\u001b[0;34m,\u001b[0m\u001b[0;34m\u001b[0m\u001b[0;34m\u001b[0m\u001b[0m\n\u001b[0;32m-> 3289\u001b[0;31m             capture_by_value=self._capture_by_value),\n\u001b[0m\u001b[1;32m   3290\u001b[0m         \u001b[0mself\u001b[0m\u001b[0;34m.\u001b[0m\u001b[0m_function_attributes\u001b[0m\u001b[0;34m,\u001b[0m\u001b[0;34m\u001b[0m\u001b[0;34m\u001b[0m\u001b[0m\n\u001b[1;32m   3291\u001b[0m         \u001b[0mfunction_spec\u001b[0m\u001b[0;34m=\u001b[0m\u001b[0mself\u001b[0m\u001b[0;34m.\u001b[0m\u001b[0mfunction_spec\u001b[0m\u001b[0;34m,\u001b[0m\u001b[0;34m\u001b[0m\u001b[0;34m\u001b[0m\u001b[0m\n",
            "\u001b[0;32m/usr/local/lib/python3.7/dist-packages/tensorflow/python/framework/func_graph.py\u001b[0m in \u001b[0;36mfunc_graph_from_py_func\u001b[0;34m(name, python_func, args, kwargs, signature, func_graph, autograph, autograph_options, add_control_dependencies, arg_names, op_return_value, collections, capture_by_value, override_flat_arg_shapes)\u001b[0m\n\u001b[1;32m    997\u001b[0m         \u001b[0m_\u001b[0m\u001b[0;34m,\u001b[0m \u001b[0moriginal_func\u001b[0m \u001b[0;34m=\u001b[0m \u001b[0mtf_decorator\u001b[0m\u001b[0;34m.\u001b[0m\u001b[0munwrap\u001b[0m\u001b[0;34m(\u001b[0m\u001b[0mpython_func\u001b[0m\u001b[0;34m)\u001b[0m\u001b[0;34m\u001b[0m\u001b[0;34m\u001b[0m\u001b[0m\n\u001b[1;32m    998\u001b[0m \u001b[0;34m\u001b[0m\u001b[0m\n\u001b[0;32m--> 999\u001b[0;31m       \u001b[0mfunc_outputs\u001b[0m \u001b[0;34m=\u001b[0m \u001b[0mpython_func\u001b[0m\u001b[0;34m(\u001b[0m\u001b[0;34m*\u001b[0m\u001b[0mfunc_args\u001b[0m\u001b[0;34m,\u001b[0m \u001b[0;34m**\u001b[0m\u001b[0mfunc_kwargs\u001b[0m\u001b[0;34m)\u001b[0m\u001b[0;34m\u001b[0m\u001b[0;34m\u001b[0m\u001b[0m\n\u001b[0m\u001b[1;32m   1000\u001b[0m \u001b[0;34m\u001b[0m\u001b[0m\n\u001b[1;32m   1001\u001b[0m       \u001b[0;31m# invariant: `func_outputs` contains only Tensors, CompositeTensors,\u001b[0m\u001b[0;34m\u001b[0m\u001b[0;34m\u001b[0m\u001b[0;34m\u001b[0m\u001b[0m\n",
            "\u001b[0;32m/usr/local/lib/python3.7/dist-packages/tensorflow/python/eager/def_function.py\u001b[0m in \u001b[0;36mwrapped_fn\u001b[0;34m(*args, **kwds)\u001b[0m\n\u001b[1;32m    670\u001b[0m         \u001b[0;31m# the function a weak reference to itself to avoid a reference cycle.\u001b[0m\u001b[0;34m\u001b[0m\u001b[0;34m\u001b[0m\u001b[0;34m\u001b[0m\u001b[0m\n\u001b[1;32m    671\u001b[0m         \u001b[0;32mwith\u001b[0m \u001b[0mOptionalXlaContext\u001b[0m\u001b[0;34m(\u001b[0m\u001b[0mcompile_with_xla\u001b[0m\u001b[0;34m)\u001b[0m\u001b[0;34m:\u001b[0m\u001b[0;34m\u001b[0m\u001b[0;34m\u001b[0m\u001b[0m\n\u001b[0;32m--> 672\u001b[0;31m           \u001b[0mout\u001b[0m \u001b[0;34m=\u001b[0m \u001b[0mweak_wrapped_fn\u001b[0m\u001b[0;34m(\u001b[0m\u001b[0;34m)\u001b[0m\u001b[0;34m.\u001b[0m\u001b[0m__wrapped__\u001b[0m\u001b[0;34m(\u001b[0m\u001b[0;34m*\u001b[0m\u001b[0margs\u001b[0m\u001b[0;34m,\u001b[0m \u001b[0;34m**\u001b[0m\u001b[0mkwds\u001b[0m\u001b[0;34m)\u001b[0m\u001b[0;34m\u001b[0m\u001b[0;34m\u001b[0m\u001b[0m\n\u001b[0m\u001b[1;32m    673\u001b[0m         \u001b[0;32mreturn\u001b[0m \u001b[0mout\u001b[0m\u001b[0;34m\u001b[0m\u001b[0;34m\u001b[0m\u001b[0m\n\u001b[1;32m    674\u001b[0m \u001b[0;34m\u001b[0m\u001b[0m\n",
            "\u001b[0;32m/usr/local/lib/python3.7/dist-packages/tensorflow/python/framework/func_graph.py\u001b[0m in \u001b[0;36mwrapper\u001b[0;34m(*args, **kwargs)\u001b[0m\n\u001b[1;32m    984\u001b[0m           \u001b[0;32mexcept\u001b[0m \u001b[0mException\u001b[0m \u001b[0;32mas\u001b[0m \u001b[0me\u001b[0m\u001b[0;34m:\u001b[0m  \u001b[0;31m# pylint:disable=broad-except\u001b[0m\u001b[0;34m\u001b[0m\u001b[0;34m\u001b[0m\u001b[0m\n\u001b[1;32m    985\u001b[0m             \u001b[0;32mif\u001b[0m \u001b[0mhasattr\u001b[0m\u001b[0;34m(\u001b[0m\u001b[0me\u001b[0m\u001b[0;34m,\u001b[0m \u001b[0;34m\"ag_error_metadata\"\u001b[0m\u001b[0;34m)\u001b[0m\u001b[0;34m:\u001b[0m\u001b[0;34m\u001b[0m\u001b[0;34m\u001b[0m\u001b[0m\n\u001b[0;32m--> 986\u001b[0;31m               \u001b[0;32mraise\u001b[0m \u001b[0me\u001b[0m\u001b[0;34m.\u001b[0m\u001b[0mag_error_metadata\u001b[0m\u001b[0;34m.\u001b[0m\u001b[0mto_exception\u001b[0m\u001b[0;34m(\u001b[0m\u001b[0me\u001b[0m\u001b[0;34m)\u001b[0m\u001b[0;34m\u001b[0m\u001b[0;34m\u001b[0m\u001b[0m\n\u001b[0m\u001b[1;32m    987\u001b[0m             \u001b[0;32melse\u001b[0m\u001b[0;34m:\u001b[0m\u001b[0;34m\u001b[0m\u001b[0;34m\u001b[0m\u001b[0m\n\u001b[1;32m    988\u001b[0m               \u001b[0;32mraise\u001b[0m\u001b[0;34m\u001b[0m\u001b[0;34m\u001b[0m\u001b[0m\n",
            "\u001b[0;31mValueError\u001b[0m: in user code:\n\n    /usr/local/lib/python3.7/dist-packages/keras/engine/training.py:830 train_function  *\n        return step_function(self, iterator)\n    /usr/local/lib/python3.7/dist-packages/keras/engine/training.py:813 run_step  *\n        outputs = model.train_step(data)\n    /usr/local/lib/python3.7/dist-packages/keras/engine/training.py:771 train_step  *\n        loss = self.compiled_loss(\n    /usr/local/lib/python3.7/dist-packages/keras/engine/compile_utils.py:201 __call__  *\n        loss_value = loss_obj(y_t, y_p, sample_weight=sw)\n    /usr/local/lib/python3.7/dist-packages/keras/losses.py:142 __call__  *\n        losses = call_fn(y_true, y_pred)\n    /usr/local/lib/python3.7/dist-packages/keras/losses.py:246 call  *\n        return ag_fn(y_true, y_pred, **self._fn_kwargs)\n    /usr/local/lib/python3.7/dist-packages/tensorflow/python/util/dispatch.py:206 wrapper  **\n        return target(*args, **kwargs)\n    /usr/local/lib/python3.7/dist-packages/keras/losses.py:1631 categorical_crossentropy\n        y_true, y_pred, from_logits=from_logits)\n    /usr/local/lib/python3.7/dist-packages/tensorflow/python/util/dispatch.py:206 wrapper\n        return target(*args, **kwargs)\n    /usr/local/lib/python3.7/dist-packages/keras/backend.py:4827 categorical_crossentropy\n        target.shape.assert_is_compatible_with(output.shape)\n    /usr/local/lib/python3.7/dist-packages/tensorflow/python/framework/tensor_shape.py:1161 assert_is_compatible_with\n        raise ValueError(\"Shapes %s and %s are incompatible\" % (self, other))\n\n    ValueError: Shapes (None, 10) and (None, 30) are incompatible\n"
          ]
        }
      ]
    },
    {
      "cell_type": "markdown",
      "metadata": {
        "id": "OpNOf6tXFe7B"
      },
      "source": [
        "# Milestone 3: Using image information in our model\n",
        "\n",
        "After training our bare LSTM, we now use a CNN-LSTM model to answer our questions. The CNN-LSTM model encodes the information contained in the image and uses it to answer our questions.\n",
        "\n",
        "As the information contained in the image is necessary to answer these questions, we should expect this model to do better than the previous one."
      ]
    },
    {
      "cell_type": "code",
      "metadata": {
        "id": "KJMEfdFAteH5",
        "colab": {
          "base_uri": "https://localhost:8080/"
        },
        "outputId": "752dc783-cebd-4064-be0b-66890046adb4"
      },
      "source": [
        "#@title Run this to download data and prepare our environment! { display-mode: \"form\" }\n",
        "\n",
        "\n",
        "### preparing definitions\n",
        "# downloading and loading data\n",
        "import gdown\n",
        "from keras.utils.np_utils import to_categorical\n",
        "\n",
        "\n",
        "# file variables\n",
        "train_feats_url         = 'https://drive.google.com/uc?id=1u485ehCP-ccAt3sSPwjCE0qCK-dOVsl5'\n",
        "train_feats_path        = 'train_features.hdf5'\n",
        "\n",
        "gdown.download(train_feats_url, 'train_features.hdf5', False)\n",
        "\n",
        "# file variables\n",
        "\n",
        "# file variables\n",
        "val_feats_url         = 'https://drive.google.com/uc?id=1cdXPB49VuLr4ZbH-bwza9orlDddwDYOr'\n",
        "val_feats_path        = 'val_features.hdf5'\n",
        "\n",
        "gdown.download(val_feats_url, 'val_features.hdf5', False)\n",
        "\n",
        "def encode_image(images_path, data_path):\n",
        "  image_data = h5py.File(images_path, 'r')\n",
        "  data = h5py.File(data_path, 'r')\n",
        "  questions = data['questions'][()]\n",
        "  image_features = image_data['feats'][()]\n",
        "  answers = to_categorical(data['answers'][()])\n",
        "  return image_features, questions, answers\n",
        "\n",
        "from keras.models import Sequential\n",
        "from keras.layers.core import Dense, Dropout, Activation, Reshape\n",
        "from keras import Input\n",
        "from keras.layers.recurrent import LSTM\n",
        "from keras.layers import concatenate\n",
        "from keras.layers.merge import Concatenate\n",
        "from keras.models import model_from_json, Model\n",
        "from tensorflow.keras.utils import plot_model\n",
        "from collections import defaultdict\n",
        "import operator\n",
        "from keras.utils import np_utils, generic_utils\n",
        "from progressbar import Bar, ETA, Percentage, ProgressBar\n",
        "from itertools import zip_longest\n",
        "from keras.models import load_model\n",
        "\n",
        "def image_model(hidden_size=512):\n",
        "  image_model = Sequential()\n",
        "  image_model.add(Reshape(input_shape = (4096,), target_shape=(4096,)))\n",
        "  image_model.add(Dense(hidden_size, activation = 'tanh'))\n",
        "  return image_model\n",
        "\n",
        "def language_model(embedding, vocab_size, q_lengths = 20, \n",
        "                   num_layers = 2, hidden_size=512, \n",
        "                   embedding_size=100):\n",
        "\n",
        "  language_model = Sequential()\n",
        "  language_model.add(Embedding(vocab_size, embedding_size, \n",
        "                    weights=[embedding], input_length=q_lengths, \n",
        "                    trainable=False))\n",
        "  language_model.add(LSTM(hidden_size, return_sequences=True, \n",
        "                          input_shape=(q_lengths, embedding_size)))\n",
        "  for i in range(num_layers-2):\n",
        "      language_model.add(LSTM(hidden_size, return_sequences=True))\n",
        "  language_model.add(LSTM(hidden_size, return_sequences=False))\n",
        "\n",
        "  return language_model\n",
        "\n",
        "def vqa_model(embedding, vocab_size, q_lengths = 20, \n",
        "              num_lstm_layers = 2, hidden_size=512, \n",
        "              embedding_size=100, num_classes=30):\n",
        "  image_model_ = image_model(hidden_size)\n",
        "\n",
        "  language_model_ = language_model(embedding, vocab_size, \n",
        "                                   q_lengths = q_lengths, \n",
        "                                   num_layers = num_lstm_layers, \n",
        "                                   hidden_size=hidden_size, \n",
        "                                   embedding_size=embedding_size)\n",
        "  \n",
        "  combined = multiply([image_model_.output, language_model_.output])\n",
        "\n",
        "  model = Dense(256, activation = 'tanh')(combined)\n",
        "  model = Dropout(0.5)(model)\n",
        "\n",
        "  model = Dense(256, activation = 'tanh')(model)\n",
        "  model = Dropout(0.5)(model)\n",
        "\n",
        "  model = Dense(128, activation = 'tanh')(model)\n",
        "  model = Dropout(0.5)(model)\n",
        "\n",
        "  model = Dense(num_classes)(model)\n",
        "  model = Activation(\"softmax\")(model)\n",
        "\n",
        "  model = Model(inputs=[image_model_.input, language_model_.input], outputs=model)\n",
        "\n",
        "  model.compile(loss='categorical_crossentropy', optimizer='rmsprop', metrics=['accuracy'])\n",
        "\n",
        "  return model"
      ],
      "execution_count": null,
      "outputs": [
        {
          "output_type": "stream",
          "text": [
            "Downloading...\n",
            "From: https://drive.google.com/uc?id=1u485ehCP-ccAt3sSPwjCE0qCK-dOVsl5\n",
            "To: /content/train_features.hdf5\n",
            "76.6MB [00:00, 221MB/s]\n",
            "Downloading...\n",
            "From: https://drive.google.com/uc?id=1cdXPB49VuLr4ZbH-bwza9orlDddwDYOr\n",
            "To: /content/val_features.hdf5\n",
            "14.3MB [00:00, 216MB/s]\n"
          ],
          "name": "stderr"
        }
      ]
    },
    {
      "cell_type": "markdown",
      "metadata": {
        "id": "o3VXkLl6X3jd"
      },
      "source": [
        "## Activity 3a. Encoding our images\n",
        "Instead of training a CNN model from scratch, we usually use an imagenet pretrained model in our pipeline.\n",
        "\n",
        "This does not only improve our training marginally, but also increases the speed of our forward pass. \n",
        "\n",
        "Indeed, it is possible to prepare our image features in advance and only run our LSTM model after.\n",
        "\n",
        "In order to do so, we use the following function:\n",
        "\n",
        "```image_features, questions, answers = encode_image(train_feats_path, train_path)``` \n"
      ]
    },
    {
      "cell_type": "code",
      "metadata": {
        "id": "-rGcU6bBhOB0"
      },
      "source": [
        "### YOUR CODE HERE\n",
        "image_features, questions, answers = encode_image(train_feats_path, train_path)\n",
        "### END CODE"
      ],
      "execution_count": null,
      "outputs": []
    },
    {
      "cell_type": "markdown",
      "metadata": {
        "id": "zHmHKaq8nAoM"
      },
      "source": [
        "## Activity 3b. Training our model\n",
        "\n",
        "Now that we have our image features ready, let's train our CNN-LSTM model.\n",
        "\n",
        "In order to do so, we build our model using \n",
        "\n",
        "`model = vqa_model(embedding_matrix, vocab_size, q_lengths = 20, \n",
        "          num_lstm_layers = num_layers, hidden_size=hidden_size, embedding_size=100,\n",
        "          num_classes=30)`\n",
        "\n",
        "Make sure to specify `vocab_size`, `num_layers` and `hidden_size`."
      ]
    },
    {
      "cell_type": "code",
      "metadata": {
        "id": "waNLs360od3T"
      },
      "source": [
        "### YOUR CODE HERE\n",
        "model_with_images = vqa_model(embedding_matrix, len(vocab), q_lengths = 20, num_lstm_layers = 5, hidden_size=10, embedding_size=100, num_classes=30)\n",
        "### END CODE"
      ],
      "execution_count": null,
      "outputs": []
    },
    {
      "cell_type": "markdown",
      "metadata": {
        "id": "e4J5QHZjYore"
      },
      "source": [
        "Let's visualize our model architecture!"
      ]
    },
    {
      "cell_type": "code",
      "metadata": {
        "id": "KpqIWwmbYsgd",
        "colab": {
          "base_uri": "https://localhost:8080/",
          "height": 324
        },
        "outputId": "92888829-2217-4203-f97a-a5eb5c5b80db"
      },
      "source": [
        "plot_model(vqa_model, to_file='model_plot.png', show_shapes=True, show_layer_names=True)"
      ],
      "execution_count": null,
      "outputs": [
        {
          "output_type": "error",
          "ename": "AttributeError",
          "evalue": "ignored",
          "traceback": [
            "\u001b[0;31m---------------------------------------------------------------------------\u001b[0m",
            "\u001b[0;31mAttributeError\u001b[0m                            Traceback (most recent call last)",
            "\u001b[0;32m<ipython-input-26-e3354747f93a>\u001b[0m in \u001b[0;36m<module>\u001b[0;34m()\u001b[0m\n\u001b[0;32m----> 1\u001b[0;31m \u001b[0mplot_model\u001b[0m\u001b[0;34m(\u001b[0m\u001b[0mvqa_model\u001b[0m\u001b[0;34m,\u001b[0m \u001b[0mto_file\u001b[0m\u001b[0;34m=\u001b[0m\u001b[0;34m'model_plot.png'\u001b[0m\u001b[0;34m,\u001b[0m \u001b[0mshow_shapes\u001b[0m\u001b[0;34m=\u001b[0m\u001b[0;32mTrue\u001b[0m\u001b[0;34m,\u001b[0m \u001b[0mshow_layer_names\u001b[0m\u001b[0;34m=\u001b[0m\u001b[0;32mTrue\u001b[0m\u001b[0;34m)\u001b[0m\u001b[0;34m\u001b[0m\u001b[0;34m\u001b[0m\u001b[0m\n\u001b[0m",
            "\u001b[0;32m/usr/local/lib/python3.7/dist-packages/tensorflow/python/keras/utils/vis_utils.py\u001b[0m in \u001b[0;36mplot_model\u001b[0;34m(model, to_file, show_shapes, show_dtype, show_layer_names, rankdir, expand_nested, dpi)\u001b[0m\n\u001b[1;32m    327\u001b[0m       \u001b[0mrankdir\u001b[0m\u001b[0;34m=\u001b[0m\u001b[0mrankdir\u001b[0m\u001b[0;34m,\u001b[0m\u001b[0;34m\u001b[0m\u001b[0;34m\u001b[0m\u001b[0m\n\u001b[1;32m    328\u001b[0m       \u001b[0mexpand_nested\u001b[0m\u001b[0;34m=\u001b[0m\u001b[0mexpand_nested\u001b[0m\u001b[0;34m,\u001b[0m\u001b[0;34m\u001b[0m\u001b[0;34m\u001b[0m\u001b[0m\n\u001b[0;32m--> 329\u001b[0;31m       dpi=dpi)\n\u001b[0m\u001b[1;32m    330\u001b[0m   \u001b[0mto_file\u001b[0m \u001b[0;34m=\u001b[0m \u001b[0mpath_to_string\u001b[0m\u001b[0;34m(\u001b[0m\u001b[0mto_file\u001b[0m\u001b[0;34m)\u001b[0m\u001b[0;34m\u001b[0m\u001b[0;34m\u001b[0m\u001b[0m\n\u001b[1;32m    331\u001b[0m   \u001b[0;32mif\u001b[0m \u001b[0mdot\u001b[0m \u001b[0;32mis\u001b[0m \u001b[0;32mNone\u001b[0m\u001b[0;34m:\u001b[0m\u001b[0;34m\u001b[0m\u001b[0;34m\u001b[0m\u001b[0m\n",
            "\u001b[0;32m/usr/local/lib/python3.7/dist-packages/tensorflow/python/keras/utils/vis_utils.py\u001b[0m in \u001b[0;36mmodel_to_dot\u001b[0;34m(model, show_shapes, show_dtype, show_layer_names, rankdir, expand_nested, dpi, subgraph)\u001b[0m\n\u001b[1;32m    130\u001b[0m   \u001b[0msub_w_last_node\u001b[0m \u001b[0;34m=\u001b[0m \u001b[0;34m{\u001b[0m\u001b[0;34m}\u001b[0m\u001b[0;34m\u001b[0m\u001b[0;34m\u001b[0m\u001b[0m\n\u001b[1;32m    131\u001b[0m \u001b[0;34m\u001b[0m\u001b[0m\n\u001b[0;32m--> 132\u001b[0;31m   \u001b[0mlayers\u001b[0m \u001b[0;34m=\u001b[0m \u001b[0mmodel\u001b[0m\u001b[0;34m.\u001b[0m\u001b[0mlayers\u001b[0m\u001b[0;34m\u001b[0m\u001b[0;34m\u001b[0m\u001b[0m\n\u001b[0m\u001b[1;32m    133\u001b[0m   \u001b[0;32mif\u001b[0m \u001b[0;32mnot\u001b[0m \u001b[0mmodel\u001b[0m\u001b[0;34m.\u001b[0m\u001b[0m_is_graph_network\u001b[0m\u001b[0;34m:\u001b[0m\u001b[0;34m\u001b[0m\u001b[0;34m\u001b[0m\u001b[0m\n\u001b[1;32m    134\u001b[0m     \u001b[0mnode\u001b[0m \u001b[0;34m=\u001b[0m \u001b[0mpydot\u001b[0m\u001b[0;34m.\u001b[0m\u001b[0mNode\u001b[0m\u001b[0;34m(\u001b[0m\u001b[0mstr\u001b[0m\u001b[0;34m(\u001b[0m\u001b[0mid\u001b[0m\u001b[0;34m(\u001b[0m\u001b[0mmodel\u001b[0m\u001b[0;34m)\u001b[0m\u001b[0;34m)\u001b[0m\u001b[0;34m,\u001b[0m \u001b[0mlabel\u001b[0m\u001b[0;34m=\u001b[0m\u001b[0mmodel\u001b[0m\u001b[0;34m.\u001b[0m\u001b[0mname\u001b[0m\u001b[0;34m)\u001b[0m\u001b[0;34m\u001b[0m\u001b[0;34m\u001b[0m\u001b[0m\n",
            "\u001b[0;31mAttributeError\u001b[0m: 'function' object has no attribute 'layers'"
          ]
        }
      ]
    },
    {
      "cell_type": "markdown",
      "metadata": {
        "id": "HLex3HLWZilL"
      },
      "source": [
        "Let's train our model now!\n",
        "\n",
        "Use ```vqa_model.fit([train_features, train_questions], train_answers, epochs=num_epochs, batch_size=batch_size, shuffle=True)``` to train our vqa model.\n",
        "\n",
        "Make sure to specify `num_epochs` and `batch_size`."
      ]
    },
    {
      "cell_type": "code",
      "metadata": {
        "id": "ksbItD2GZtXL",
        "colab": {
          "base_uri": "https://localhost:8080/",
          "height": 130
        },
        "outputId": "a44d5c01-6f4f-4a37-d94d-ac5692d9e8d5"
      },
      "source": [
        "### YOUR CODE HERE\n",
        "vqa_model.compile(optimizer='rmsprop', loss'categorical_crossentropy', metrics = ['accuracy'])\n",
        "vqa_model.fit([train_featurs, train_questions], train_answers, epochs=5, batch_size=64)\n",
        "### END CODE"
      ],
      "execution_count": null,
      "outputs": [
        {
          "output_type": "error",
          "ename": "SyntaxError",
          "evalue": "ignored",
          "traceback": [
            "\u001b[0;36m  File \u001b[0;32m\"<ipython-input-27-a2506b188d3a>\"\u001b[0;36m, line \u001b[0;32m2\u001b[0m\n\u001b[0;31m    vqa_model.compile(optimizer='rmsprop', loss'categorical_crossentropy', metrics = ['accuracy'])\u001b[0m\n\u001b[0m                                                                        ^\u001b[0m\n\u001b[0;31mSyntaxError\u001b[0m\u001b[0;31m:\u001b[0m invalid syntax\n"
          ]
        }
      ]
    },
    {
      "cell_type": "markdown",
      "metadata": {
        "id": "3hpyjz-HpBVl"
      },
      "source": [
        "## Activity 3c. Evaluating our model\n",
        "Let's evaluate our model. \n",
        "\n",
        "Make sure to load our validation set using\n",
        "\n",
        "```val_features, val_questions, val_answers = encode_image(val_features_path, val_path)``` \n",
        "\n"
      ]
    },
    {
      "cell_type": "code",
      "metadata": {
        "id": "3KUXsp1duKAA",
        "colab": {
          "base_uri": "https://localhost:8080/",
          "height": 198
        },
        "outputId": "d2235acd-36c9-471f-b839-2d52ff7da2aa"
      },
      "source": [
        "### YOUR CODE HERE\n",
        "val_features, val_questions, val_answers = encode_image(val_features_path, val_path)\n",
        "### END CODE"
      ],
      "execution_count": null,
      "outputs": [
        {
          "output_type": "error",
          "ename": "NameError",
          "evalue": "ignored",
          "traceback": [
            "\u001b[0;31m---------------------------------------------------------------------------\u001b[0m",
            "\u001b[0;31mNameError\u001b[0m                                 Traceback (most recent call last)",
            "\u001b[0;32m<ipython-input-28-629e9286dbbc>\u001b[0m in \u001b[0;36m<module>\u001b[0;34m()\u001b[0m\n\u001b[1;32m      1\u001b[0m \u001b[0;31m### YOUR CODE HERE\u001b[0m\u001b[0;34m\u001b[0m\u001b[0;34m\u001b[0m\u001b[0;34m\u001b[0m\u001b[0m\n\u001b[0;32m----> 2\u001b[0;31m \u001b[0mval_features\u001b[0m\u001b[0;34m,\u001b[0m \u001b[0mval_questions\u001b[0m\u001b[0;34m,\u001b[0m \u001b[0mval_answers\u001b[0m \u001b[0;34m=\u001b[0m \u001b[0mencode_image\u001b[0m\u001b[0;34m(\u001b[0m\u001b[0mval_features_path\u001b[0m\u001b[0;34m,\u001b[0m \u001b[0mval_path\u001b[0m\u001b[0;34m)\u001b[0m\u001b[0;34m\u001b[0m\u001b[0;34m\u001b[0m\u001b[0m\n\u001b[0m\u001b[1;32m      3\u001b[0m \u001b[0;31m### END CODE\u001b[0m\u001b[0;34m\u001b[0m\u001b[0;34m\u001b[0m\u001b[0;34m\u001b[0m\u001b[0m\n",
            "\u001b[0;31mNameError\u001b[0m: name 'val_features_path' is not defined"
          ]
        }
      ]
    },
    {
      "cell_type": "markdown",
      "metadata": {
        "id": "qOAGJd2KuNnx"
      },
      "source": [
        "##Activity 3d. Comparing our models predictions"
      ]
    },
    {
      "cell_type": "markdown",
      "metadata": {
        "id": "wJCV8s-RbZJ1"
      },
      "source": [
        "### ***Discuss:*** \n",
        "\n",
        "Let's compare both model's performance. which of the models did better? \n",
        "\n",
        "Can you explain why image information is crucial in this task?"
      ]
    },
    {
      "cell_type": "markdown",
      "metadata": {
        "id": "TWcS8mxWcIJe"
      },
      "source": [
        "## Activity 3e. Visualizing a few examples\n",
        "\n"
      ]
    },
    {
      "cell_type": "code",
      "metadata": {
        "id": "1OgNzFO2tDBk"
      },
      "source": [
        "#@title Run this to prepare data! { display-mode: \"form\" }\n",
        "### YOUR CODE HERE\n",
        "import gdown\n",
        "\n",
        "# file variables\n",
        "im_url         = 'https://drive.google.com/uc?id=1t2-Rhbts6NdDPaC64uF_Z-MHZXyCSxbX'\n",
        "im_path        = 'im.zip'\n",
        "\n",
        "gdown.download(im_url, 'im.zip', True)\n",
        "!unzip im.zip\n",
        "\n",
        "filter_url         = 'https://drive.google.com/uc?id=1Jc4Nff-5oPrjc3dwdB4eI8NZjiWT1VTJ'\n",
        "filter_path        = 'filter.json'\n",
        "\n",
        "gdown.download(filter_url, 'filter.json', True)\n",
        "\n",
        "answers_list = json.load(open('filter.json', 'r'))"
      ],
      "execution_count": null,
      "outputs": []
    },
    {
      "cell_type": "code",
      "metadata": {
        "id": "fEaaCFrEySML"
      },
      "source": [
        "#@title Choose data point to visualize? { display-mode: \"form\" }\n",
        "\n",
        "inputs = \"VizWiz_val_00000123.jpg\" #@param [\"FillMe\", \"VizWiz_val_00000009.jpg\", \"VizWiz_val_00000011.jpg\", \"VizWiz_val_00000028.jpg\", \"VizWiz_val_00000037.jpg\", \"VizWiz_val_00000058.jpg\", \"VizWiz_val_00000075.jpg\", \"VizWiz_val_00000084.jpg\", \"VizWiz_val_00000090.jpg\", \"VizWiz_val_00000093.jpg\", \"VizWiz_val_00000095.jpg\", \"VizWiz_val_00000100.jpg\", \"VizWiz_val_00000101.jpg\", \"VizWiz_val_00000102.jpg\", \"VizWiz_val_00000105.jpg\", \"VizWiz_val_00000114.jpg\", \"VizWiz_val_00000123.jpg\"]\n",
        "\n",
        "img = [\"VizWiz_val_00000009.jpg\", \"VizWiz_val_00000011.jpg\", \n",
        "       \"VizWiz_val_00000028.jpg\", \"VizWiz_val_00000037.jpg\", \n",
        "       \"VizWiz_val_00000058.jpg\", \"VizWiz_val_00000075.jpg\", \n",
        "       \"VizWiz_val_00000084.jpg\", \"VizWiz_val_00000090.jpg\", \n",
        "       \"VizWiz_val_00000093.jpg\", \"VizWiz_val_00000095.jpg\", \n",
        "       \"VizWiz_val_00000100.jpg\", \"VizWiz_val_00000101.jpg\", \n",
        "       \"VizWiz_val_00000102.jpg\", \"VizWiz_val_00000105.jpg\",\n",
        "       \"VizWiz_val_00000114.jpg\", \"VizWiz_val_00000123.jpg\"]\n",
        "\n",
        "if inputs == \"FillMe\":\n",
        "  print(\"Please choose a valid data point\")\n",
        "\n",
        "index = img.index(inputs)\n",
        "print(type(val_questions[index]))\n",
        "print('Our question is:', vocab.decode_sentence(val_questions[index].astype(int)))\n",
        "print('Our original answer is:', answers_list[val_answers[index].argmax()])\n",
        "\n",
        "import matplotlib.pyplot as plt\n",
        "import matplotlib.image as mpimg\n",
        "\n",
        "img=mpimg.imread(inputs)\n",
        "plt.imshow(img)\n",
        "\n",
        "print('Our bare LSTM model predicts:', answers_list[model.predict([val_questions[index: index + 1]]).argmax()])\n",
        "print('Our VQA model predicts:', answers_list[vqa_model.predict([val_features[index:index+1], val_questions[index:index+1]]).argmax()])\n"
      ],
      "execution_count": null,
      "outputs": []
    },
    {
      "cell_type": "code",
      "metadata": {
        "id": "MT3tkZl73CCB"
      },
      "source": [
        "#@title Ask any question you want about the image { display-mode: \"form\" }\n",
        "\n",
        "def encode(vocab, sentence):\n",
        "    tokens = [0] * 20\n",
        "    tokens[0] = vocab.word2idx['<start>']\n",
        "    for i in range(min(len(sentence), 19)):\n",
        "      if sentence[i] in vocab.word2idx:\n",
        "        s = sentence[i]\n",
        "      else:\n",
        "        s = '<unk>'\n",
        "      tokens[i+1] = vocab.word2idx[s]\n",
        "    tokens[i+1] = vocab.word2idx['<end>']\n",
        "    return np.array(tokens)\n",
        "\n",
        "\n",
        "Question = \"what is the color ?\" #@param {type:\"string\"}\n",
        "\n",
        "q = encode(vocab, Question)\n",
        "print('Our bare LSTM model predicts:', answers_list[model.predict(q.reshape(1,-1)).argmax()])\n",
        "print('Our VQA model predicts:', answers_list[vqa_model.predict([val_features[index:index+1], q.reshape(1,-1)]).argmax()])\n"
      ],
      "execution_count": null,
      "outputs": []
    },
    {
      "cell_type": "markdown",
      "metadata": {
        "id": "vGqKDb2wte_g"
      },
      "source": [
        "# Fin! Let's analyse our model predictions in the next section!\n"
      ]
    },
    {
      "cell_type": "markdown",
      "metadata": {
        "id": "lmJ_ycYE4Zpj"
      },
      "source": [
        "![](https://vizwiz.org/wp-content/uploads/2019/05/logo-name1.png)"
      ]
    }
  ]
}