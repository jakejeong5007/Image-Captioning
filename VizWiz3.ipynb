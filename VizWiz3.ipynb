{
  "nbformat": 4,
  "nbformat_minor": 0,
  "metadata": {
    "colab": {
      "name": "VizWiz3.ipynb",
      "provenance": [],
      "collapsed_sections": [],
      "include_colab_link": true
    },
    "kernelspec": {
      "name": "python3",
      "display_name": "Python 3"
    }
  },
  "cells": [
    {
      "cell_type": "markdown",
      "metadata": {
        "id": "view-in-github",
        "colab_type": "text"
      },
      "source": [
        "<a href=\"https://colab.research.google.com/github/jakejeong5007/VizWiz/blob/main/VizWiz3.ipynb\" target=\"_parent\"><img src=\"https://colab.research.google.com/assets/colab-badge.svg\" alt=\"Open In Colab\"/></a>"
      ]
    },
    {
      "cell_type": "markdown",
      "metadata": {
        "id": "T4sLmjIuDpmY"
      },
      "source": [
        "![](https://vizwiz.org/wp-content/uploads/2019/05/logo-name1.png)"
      ]
    },
    {
      "cell_type": "markdown",
      "metadata": {
        "id": "xyvASmeODyC3"
      },
      "source": [
        "In the previous weeks, we got our Vizwiz data ready and trained and evaluated our LSTM-based models. \n",
        "\n",
        "In this week, we take a look at our model predictions and analyse them. \n",
        "\n",
        "We'll start by retraining our models, then identifying a few qualitative analysis strategies we can use to improve our VQA model.\n",
        "\n",
        "The goal of this section is to engage students and make them understand how to analyse model performance and propose improvements."
      ]
    },
    {
      "cell_type": "code",
      "metadata": {
        "id": "DMoymbJeqib4",
        "colab": {
          "base_uri": "https://localhost:8080/"
        },
        "outputId": "c196bfdb-faba-44f8-c5cb-629e55b92622"
      },
      "source": [
        "#@title Run this to download data and prepare our environment! { display-mode: \"form\" }\n",
        "\n",
        "\n",
        "### preparing definitions\n",
        "# downloading and loading data\n",
        "import gdown\n",
        "\n",
        "# file variables\n",
        "metadata_url         = 'https://storage.googleapis.com/inspirit-ai-data-bucket-1/Data/Deep%20Dives/Advanced%20Topics%20in%20AI/Sessions%206%20-%2010%20(Projects)/Project%20-%20Visual%20Question%20Answering/Annotations.zip'\n",
        "metadata_path        = './metadata.zip'\n",
        "\n",
        "###\n",
        "gdown.download(metadata_url, './metadata.zip', True)\n",
        "!unzip ./metadata.zip\n",
        "\n",
        "# file variables\n",
        "data_url         = 'https://storage.googleapis.com/inspirit-ai-data-bucket-1/Data/Deep%20Dives/Advanced%20Topics%20in%20AI/Sessions%206%20-%2010%20(Projects)/Project%20-%20Visual%20Question%20Answering/small.h5'\n",
        "image_data_path      = 'small.h5'\n",
        "\n",
        "###\n",
        "gdown.download(data_url, 'small.h5', True)\n",
        "\n",
        "# file variables\n",
        "train_url         = 'https://storage.googleapis.com/inspirit-ai-data-bucket-1/Data/Deep%20Dives/Advanced%20Topics%20in%20AI/Sessions%206%20-%2010%20(Projects)/Project%20-%20Visual%20Question%20Answering/train.h5'\n",
        "train_path      = 'train.h5'\n",
        "###\n",
        "gdown.download(train_url, 'train.h5', True)\n",
        "\n",
        "# file variables\n",
        "val_url         = 'https://storage.googleapis.com/inspirit-ai-data-bucket-1/Data/Deep%20Dives/Advanced%20Topics%20in%20AI/Sessions%206%20-%2010%20(Projects)/Project%20-%20Visual%20Question%20Answering/val.h5'\n",
        "val_path      = 'val.h5'\n",
        "\n",
        "###\n",
        "gdown.download(val_url, 'val.h5', True)\n",
        "\n",
        "\n",
        "\n",
        "# file variables\n",
        "data_url         = 'https://storage.googleapis.com/inspirit-ai-data-bucket-1/Data/Deep%20Dives/Advanced%20Topics%20in%20AI/Sessions%206%20-%2010%20(Projects)/Project%20-%20Visual%20Question%20Answering/embedding_matrix.h5'\n",
        "image_data_path      = 'embedding_matrix.h5'\n",
        "\n",
        "###\n",
        "gdown.download(data_url, 'embedding_matrix.h5', True)\n",
        "embeddings_path = 'embedding_matrix.h5'\n",
        "\n",
        "\n",
        "\n",
        "data_url         = 'https://storage.googleapis.com/inspirit-ai-data-bucket-1/Data/Deep%20Dives/Advanced%20Topics%20in%20AI/Sessions%206%20-%2010%20(Projects)/Project%20-%20Visual%20Question%20Answering/vocab_vizwiz%20(1).json'\n",
        "image_data_path      = 'vocab.json'\n",
        "\n",
        "###\n",
        "gdown.download(data_url, 'vocab.json', True)\n",
        "vocab_path = 'vocab.json'\n",
        "\n",
        "\n",
        "import json\n",
        "import random\n",
        "\n",
        "def get_annotations(annotations_path):\n",
        "    with open(annotations_path, 'r') as f:\n",
        "      metadata = json.load(f)\n",
        "    return metadata\n",
        "\n",
        "def get_random_annotation(annotations_path):\n",
        "    with open(annotations_path, 'r') as f:\n",
        "      metadata = json.load(f)\n",
        "    i = random.choice(range(len(metadata)))\n",
        "    return metadata[i]\n",
        "\n",
        "# getting data\n",
        "annotations_path = './Annotations/val.json'\n",
        "vocab_path = 'vocab.json'\n",
        "\n",
        "def get_questions(annotations_path):\n",
        "  \n",
        "  with open(annotations_path, 'r') as f:\n",
        "    annos = json.load(f)\n",
        "\n",
        "  questions = set()\n",
        "  for i in range(len(annos)):\n",
        "    if annos[i]['answerable'] == 0:\n",
        "      continue\n",
        "    question = annos[i]['question']\n",
        "    questions.add(question)\n",
        "\n",
        "  return questions\n",
        "  \n",
        "from collections import Counter \n",
        "  \n",
        "def most_frequent(List): \n",
        "    occurence_count = Counter(List) \n",
        "    return occurence_count.most_common(1)[0][0] \n",
        "\n",
        "def get_answers(annotations_path):\n",
        "  with open(annotations_path, 'r') as f:\n",
        "    annos = json.load(f)\n",
        "  answers = set()\n",
        "  for i in range(len(annos)):\n",
        "    if annos[i]['answerable'] == 0:\n",
        "      continue\n",
        "    ans = annos[i]['answers']\n",
        "    answers_list = []\n",
        "    for a in ans:\n",
        "      answers_list += [a['answer']]\n",
        "    answers.add(most_frequent(answers_list))\n",
        "  return answers\n",
        "\n",
        "def get_image_paths(annotations_path):\n",
        "  with open(annotations_path, 'r') as f:\n",
        "    annos = json.load(f)\n",
        "\n",
        "  images = set()\n",
        "  for i in range(len(annos)):\n",
        "    if annos[i]['answerable'] == 0:\n",
        "      continue\n",
        "    image = annos[i]['image']\n",
        "    images.add(image)\n",
        "\n",
        "  return images\n",
        "\n",
        "def parse_vocab(q, a):\n",
        "  vocab = set()\n",
        "  for qu in q:\n",
        "    if '?' in qu:\n",
        "      qu = qu.replace('?', '')\n",
        "\n",
        "    vocab |= set(qu.split(' '))\n",
        "  return vocab\n",
        "\n",
        "## data and ploting\n",
        "import h5py\n",
        "import matplotlib.pyplot as plt\n",
        "\n",
        "def get_data(path):\n",
        "    data = h5py.File(path, 'r')\n",
        "    images = data['images']\n",
        "    image_idx = data['image_indices']\n",
        "    questions = data['questions']\n",
        "    answers = data['answers']\n",
        "    return images, image_idx, questions, answers\n",
        "\n",
        "def plot_image(img, questions=None, answers=None, indices=None):\n",
        "    if indices is None:\n",
        "      plt.imshow(img/255)\n",
        "      plt.show()\n",
        "    else:\n",
        "      for i in indices:\n",
        "        print('Question: ', questions[i])\n",
        "        print('Answer: ', answers[i])\n",
        "        plt.imshow(img[i]/255)\n",
        "        plt.show()\n"
      ],
      "execution_count": null,
      "outputs": [
        {
          "output_type": "stream",
          "text": [
            "Archive:  ./metadata.zip\n",
            "   creating: Annotations/\n",
            "  inflating: Annotations/val.json    \n",
            "  inflating: Annotations/train.json  \n",
            "  inflating: Annotations/test.json   \n"
          ],
          "name": "stdout"
        }
      ]
    },
    {
      "cell_type": "markdown",
      "metadata": {
        "id": "lmaAKTgF6lJI"
      },
      "source": [
        "\n",
        "# Milestone 1. (Review) Training our VQA model\n"
      ]
    },
    {
      "cell_type": "code",
      "metadata": {
        "id": "qeucolNdKAVP",
        "colab": {
          "base_uri": "https://localhost:8080/"
        },
        "outputId": "2272b3be-c74c-4446-cb80-fc0af107533d"
      },
      "source": [
        "#@title Run this to prepare our functions! { display-mode: \"form\" }\n",
        "\n",
        "\n",
        "from keras.models import Sequential, Model\n",
        "from keras.layers import Input, Dense, Activation, Dropout, LSTM, Flatten, Embedding, multiply\n",
        "import h5py\n",
        "\n",
        "\n",
        "#Taken from https://github.com/ranjaykrishna/iq with authorization from the author\n",
        "# Make sure to read https://cs.stanford.edu/people/ranjaykrishna/iq/index.html if interested\n",
        "import nltk\n",
        "import re\n",
        "import numpy as np\n",
        "nltk.download('punkt')\n",
        "\n",
        "class Vocabulary(object):\n",
        "\n",
        "    def __init__(self):\n",
        "        \"\"\"Constructor for Vocabulary.\n",
        "        \"\"\"\n",
        "        # Init mappings between words and ids\n",
        "        self.word2idx = {}\n",
        "        self.idx2word = {}\n",
        "        self.idx = 0\n",
        "        self.add_word('<pad>')\n",
        "        self.add_word('<start>')\n",
        "        self.add_word('<end>')\n",
        "        self.add_word('<unk>')\n",
        "\n",
        "    def add_word(self, word):\n",
        "        if word not in self.word2idx:\n",
        "          self.word2idx[word] = self.idx\n",
        "          self.idx2word[self.idx] = word\n",
        "          self.idx += 1\n",
        "\n",
        "    def __call__(self, word):\n",
        "        if word not in self.word2idx:\n",
        "            return self.word2idx['<unk>']\n",
        "        return self.word2idx[word]\n",
        "\n",
        "    def __len__(self):\n",
        "        return len(self.word2idx)\n",
        "\n",
        "    def save_vocab(self, location):\n",
        "        with open(location, 'w') as f:\n",
        "            json.dump({'word2idx': self.word2idx,\n",
        "                       'idx2word': self.idx2word,\n",
        "                       'idx': self.idx}, f)\n",
        "\n",
        "    def load_vocab(self, location):\n",
        "        with open(location, 'r') as f:\n",
        "            data = json.load(f)\n",
        "            self.word2idx = data['word2idx']\n",
        "            self.idx2word = data['idx2word']\n",
        "            self.idx = data['idx']\n",
        "\n",
        "    def decode_sentence(self, tokens):\n",
        "        words = []\n",
        "        for token in tokens:\n",
        "            word = self.idx2word[str(token)]\n",
        "            if word == '<end>':\n",
        "                break\n",
        "            if word not in ['<pad>', '<start>', \n",
        "                            '<end>', '<unk>']:\n",
        "                words.append(word)\n",
        "        return ' '.join(words)\n",
        "\n",
        "def load_vocab(vocab_path):\n",
        "    vocab = Vocabulary()\n",
        "    vocab.load_vocab(vocab_path)\n",
        "    return vocab\n",
        "\n",
        "def get_embeddings(path):\n",
        "  matrix = h5py.File(path, 'r')\n",
        "  return matrix['embedding_matrix'][()]\n",
        "\n",
        "from keras.utils.np_utils import to_categorical\n",
        "\n",
        "def prepare_data(data_path):\n",
        "    data = h5py.File(data_path, 'r')\n",
        "\n",
        "    questions = data['questions'][()]\n",
        "    answers = to_categorical(data['answers'][()])\n",
        "    return questions, answers\n",
        "\n",
        "def encode_image(images_path, data_path):\n",
        "  image_data = h5py.File(images_path, 'r')\n",
        "  data = h5py.File(data_path, 'r')\n",
        "  questions = data['questions'][()]\n",
        "  image_features = image_data['feats'][()]\n",
        "  answers = to_categorical(data['answers'][()])\n",
        "  return image_features, questions, answers\n",
        "\n",
        "\n",
        "#######\n",
        "\n",
        "#@title Run this to download data and prepare our environment! { display-mode: \"form\" }\n",
        "\n",
        "\n",
        "### preparing definitions\n",
        "# downloading and loading data\n",
        "import gdown\n",
        "from keras.utils.np_utils import to_categorical\n",
        "\n",
        "\n",
        "# file variables\n",
        "train_feats_url         = 'https://drive.google.com/uc?id=1u485ehCP-ccAt3sSPwjCE0qCK-dOVsl5'\n",
        "train_feats_path        = 'train_features.hdf5'\n",
        "\n",
        "gdown.download(train_feats_url, 'train_features.hdf5', False)\n",
        "\n",
        "# file variables\n",
        "\n",
        "# file variables\n",
        "val_feats_url         = 'https://drive.google.com/uc?id=1cdXPB49VuLr4ZbH-bwza9orlDddwDYOr'\n",
        "val_feats_path        = 'val_features.hdf5'\n",
        "\n",
        "gdown.download(val_feats_url, 'val_features.hdf5', False)\n",
        "\n",
        "\n",
        "\n",
        "from keras.models import Sequential\n",
        "from keras.layers.core import Dense, Dropout, Activation, Reshape\n",
        "from keras import Input\n",
        "from keras.layers.recurrent import LSTM\n",
        "from keras.layers import concatenate\n",
        "\n",
        "from keras.models import model_from_json, Model\n",
        "from tensorflow.keras.utils import plot_model\n",
        "from collections import defaultdict\n",
        "import operator\n",
        "from keras.utils import np_utils, generic_utils\n",
        "from progressbar import Bar, ETA, Percentage, ProgressBar\n",
        "from itertools import zip_longest\n",
        "from keras.models import load_model\n",
        "\n",
        "def image_model(hidden_size=512):\n",
        "  image_model = Sequential()\n",
        "  image_model.add(Reshape(input_shape = (4096,), target_shape=(4096,)))\n",
        "  image_model.add(Dense(hidden_size, activation = 'tanh'))\n",
        "  return image_model\n",
        "\n",
        "def language_model(embedding, vocab_size, q_lengths = 20, \n",
        "                   num_layers = 2, hidden_size=512, \n",
        "                   embedding_size=100):\n",
        "\n",
        "  language_model = Sequential()\n",
        "  language_model.add(Embedding(vocab_size, embedding_size, \n",
        "                    weights=[embedding], input_length=q_lengths, \n",
        "                    trainable=False))\n",
        "  language_model.add(LSTM(hidden_size, return_sequences=True, \n",
        "                          input_shape=(q_lengths, embedding_size)))\n",
        "  for i in range(num_layers-2):\n",
        "      language_model.add(LSTM(hidden_size, return_sequences=True))\n",
        "  language_model.add(LSTM(hidden_size, return_sequences=False))\n",
        "\n",
        "  return language_model\n",
        "\n",
        "def vqa_model(embedding, vocab_size, q_lengths = 20, \n",
        "              num_lstm_layers = 2, hidden_size=512, \n",
        "              embedding_size=100, num_classes=30):\n",
        "  image_model_ = image_model(hidden_size)\n",
        "\n",
        "  language_model_ = language_model(embedding, vocab_size, \n",
        "                                   q_lengths = q_lengths, \n",
        "                                   num_layers = num_lstm_layers, \n",
        "                                   hidden_size=hidden_size, \n",
        "                                   embedding_size=embedding_size)\n",
        "  \n",
        "  combined = multiply([image_model_.output, language_model_.output])\n",
        "\n",
        "  model = Dense(256, activation = 'tanh')(combined)\n",
        "  model = Dropout(0.5)(model)\n",
        "\n",
        "  model = Dense(256, activation = 'tanh')(model)\n",
        "  model = Dropout(0.5)(model)\n",
        "\n",
        "  model = Dense(128, activation = 'tanh')(model)\n",
        "  model = Dropout(0.5)(model)\n",
        "\n",
        "  model = Dense(num_classes)(model)\n",
        "  model = Activation(\"softmax\")(model)\n",
        "\n",
        "  model = Model(inputs=[image_model_.input, language_model_.input], outputs=model)\n",
        "\n",
        "  model.compile(loss='categorical_crossentropy', optimizer='rmsprop', metrics=['accuracy'])\n",
        "\n",
        "  return model"
      ],
      "execution_count": null,
      "outputs": [
        {
          "output_type": "stream",
          "text": [
            "[nltk_data] Downloading package punkt to /root/nltk_data...\n",
            "[nltk_data]   Unzipping tokenizers/punkt.zip.\n"
          ],
          "name": "stdout"
        },
        {
          "output_type": "stream",
          "text": [
            "Downloading...\n",
            "From: https://drive.google.com/uc?id=1u485ehCP-ccAt3sSPwjCE0qCK-dOVsl5\n",
            "To: /content/train_features.hdf5\n",
            "76.6MB [00:00, 102MB/s] \n",
            "Downloading...\n",
            "From: https://drive.google.com/uc?id=1cdXPB49VuLr4ZbH-bwza9orlDddwDYOr\n",
            "To: /content/val_features.hdf5\n",
            "14.3MB [00:00, 158MB/s]\n"
          ],
          "name": "stderr"
        }
      ]
    },
    {
      "cell_type": "markdown",
      "metadata": {
        "id": "93WOHcjxsWHT"
      },
      "source": [
        "### Exercise (Coding):\n",
        "In order to train our model, we first need to prepare our training data. We use the following function:\n",
        "\n",
        "```image_features, questions, answers = encode_image(train_feats_path, train_path)```\n"
      ]
    },
    {
      "cell_type": "code",
      "metadata": {
        "id": "piJP1XsfU9w9"
      },
      "source": [
        "### YOUR CODE HERE\n",
        "image_features, questions, answers = encode_image(train_feats_path, train_path)\n",
        "### END CODE"
      ],
      "execution_count": null,
      "outputs": []
    },
    {
      "cell_type": "markdown",
      "metadata": {
        "id": "tX8OFc59EmYj"
      },
      "source": [
        "We then need to load our vocab and get our embeddings.\n",
        "\n",
        "To load our vocab, we use `vocab = load_vocab(vocab_path)`.\n",
        "\n",
        "To get our embedding matrix, we use `embedding_matrix = get_embeddings(embeddings_path)`"
      ]
    },
    {
      "cell_type": "code",
      "metadata": {
        "id": "3hKtBc2nEkqk"
      },
      "source": [
        "### YOUR CODE HERE\n",
        "vocab = load_vocab(vocab_path)\n",
        "embedding_matrix = get_embeddings(embeddings_path)\n",
        "### END CODE"
      ],
      "execution_count": null,
      "outputs": []
    },
    {
      "cell_type": "markdown",
      "metadata": {
        "id": "nlrsGuyDFCR3"
      },
      "source": [
        "Now that we have our data ready, let's build our CNN-LSTM model.\n",
        "\n",
        "In order to do so, we use \n",
        "\n",
        "`vqa_model = vqa_model(embedding_matrix, len(vocab), q_lengths = 20, \n",
        "          num_lstm_layers = 2, hidden_size=512, embedding_size=100,\n",
        "          num_classes=30)`"
      ]
    },
    {
      "cell_type": "code",
      "metadata": {
        "id": "Z3bAIWaaFIaZ"
      },
      "source": [
        "### YOUR CODE HERE\n",
        "vqa_model = vqa_model(embedding_matrix, len(vocab), q_lengths = 20, num_lstm_layers = 2, hidden_size=512, embedding_size=100, num_classes=30)\n",
        "### END CODE"
      ],
      "execution_count": null,
      "outputs": []
    },
    {
      "cell_type": "markdown",
      "metadata": {
        "id": "zxk2g3WlFOHX"
      },
      "source": [
        "After building our model, we can visualize our model architecture using:\n",
        "\n",
        "`plot_model(vqa_model, to_file='model_plot.png', show_shapes=True, show_layer_names=True)`"
      ]
    },
    {
      "cell_type": "code",
      "metadata": {
        "id": "4wtGodD3Fe3M",
        "colab": {
          "base_uri": "https://localhost:8080/",
          "height": 1000
        },
        "outputId": "396d9818-a7a4-4b8d-c191-c2daa62bee8b"
      },
      "source": [
        "### YOUR CODE HERE\n",
        "plot_model(vqa_model, to_file='model_plot.png', show_shapes=True, show_layer_names=True)\n",
        "### END CODE"
      ],
      "execution_count": null,
      "outputs": [
        {
          "output_type": "execute_result",
          "data": {
            "image/png": "[encoded data removed]",
            "text/plain": [
              "<IPython.core.display.Image object>"
            ]
          },
          "metadata": {
            "tags": []
          },
          "execution_count": 6
        }
      ]
    },
    {
      "cell_type": "markdown",
      "metadata": {
        "id": "-DqNP9C7F0x9"
      },
      "source": [
        "Let's now train our model. We use the following function:\n",
        "\n",
        "\n",
        "\n",
        "> `vqa_model.fit([train_features, train_questions], train_answers, validation_data=([val_features, val_questions], val_answers),                 epochs=10, batch_size=64, shuffle=True)`\n",
        "\n",
        "\n",
        "Make sure to load our validation data using:\n",
        "\n",
        "> `val_features, val_questions, val_answers = encode_image(val_feats_path, val_path)`\n"
      ]
    },
    {
      "cell_type": "code",
      "metadata": {
        "id": "Yd3QBvfNGBXR",
        "colab": {
          "base_uri": "https://localhost:8080/"
        },
        "outputId": "94394ad2-9102-40f4-bfbd-1a69a0e2599e"
      },
      "source": [
        "### YOUR CODE HERE\n",
        "train_features, train_questions, train_answers = encode_image(train_feats_path, train_path)\n",
        "val_features, val_questions, val_answers = encode_image(val_feats_path, val_path)\n",
        "vqa_model.fit([train_features, train_questions], train_answers, validation_data=([val_features, val_questions], val_answers), epochs=10, batch_size=64, shuffle=True)\n",
        "\n",
        "### END CODE"
      ],
      "execution_count": null,
      "outputs": [
        {
          "output_type": "stream",
          "text": [
            "Epoch 1/10\n",
            "74/74 [==============================] - 127s 1s/step - loss: 3.0529 - accuracy: 0.1748 - val_loss: 2.0053 - val_accuracy: 0.3230\n",
            "Epoch 2/10\n",
            "74/74 [==============================] - 95s 1s/step - loss: 2.1524 - accuracy: 0.3500 - val_loss: 2.0164 - val_accuracy: 0.3851\n",
            "Epoch 3/10\n",
            "54/74 [====================>.........] - ETA: 25s - loss: 1.7101 - accuracy: 0.4664"
          ],
          "name": "stdout"
        }
      ]
    },
    {
      "cell_type": "markdown",
      "metadata": {
        "id": "wJCV8s-RbZJ1"
      },
      "source": [
        "### ***Discuss our model performance:*** \n",
        "\n",
        "What can we say about our model performance? \n",
        "\n",
        "Can we say we have solid performance?\n",
        "\n",
        "Do you think our model can do better? \n",
        "\n",
        "Can we do better if we take a look at our train set answers statistics? \n",
        "\n",
        "Can we do better if we understand our model performance in our validation set?"
      ]
    },
    {
      "cell_type": "markdown",
      "metadata": {
        "id": "W3u1umwiHIFn"
      },
      "source": [
        "### **Challenge exercise**: Make your own model\n",
        "\n",
        "In this exercise, we provide you our own VQA model and challenge you to make it better.\n",
        "\n",
        "**Warm up exercise:** Before we do so, we will first take a look at ways combining multi-modal vectors through \n",
        "\n",
        "the `np.concatenate()` function as well as the `np.multiply()` function.\n",
        "\n",
        "\n",
        " "
      ]
    },
    {
      "cell_type": "markdown",
      "metadata": {
        "id": "1cUgP7pBYy9t"
      },
      "source": [
        "Consider the following arrays `a` and `b`. "
      ]
    },
    {
      "cell_type": "code",
      "metadata": {
        "id": "8le7o4TNYEas"
      },
      "source": [
        "import numpy as np\n",
        "a = np.array([[1, 2], [3, 4]])\n",
        "b = np.array([[5, 6]])"
      ],
      "execution_count": null,
      "outputs": []
    },
    {
      "cell_type": "markdown",
      "metadata": {
        "id": "gzXoa4REbcDf"
      },
      "source": [
        "what are the shapes of our arrays?"
      ]
    },
    {
      "cell_type": "code",
      "metadata": {
        "id": "2wtBgqxqbhJG",
        "colab": {
          "base_uri": "https://localhost:8080/"
        },
        "outputId": "ea09c9fc-ea58-4800-f23b-eddb90655cb9"
      },
      "source": [
        "### YOUR CODE HERE\n",
        "print(a.shape)\n",
        "print(b.shape)\n",
        "### END CODE"
      ],
      "execution_count": null,
      "outputs": [
        {
          "output_type": "stream",
          "text": [
            "(2, 2)\n",
            "(1, 2)\n"
          ],
          "name": "stdout"
        }
      ]
    },
    {
      "cell_type": "markdown",
      "metadata": {
        "id": "PB89MInXbk7o"
      },
      "source": [
        "Now, let's concatenate our arrays.\n",
        "Use `np.concatenate((a, b), axis = 0)` and print the resulting array and its shape."
      ]
    },
    {
      "cell_type": "code",
      "metadata": {
        "id": "QoouaWo_b5jt",
        "colab": {
          "base_uri": "https://localhost:8080/"
        },
        "outputId": "18a787ba-238f-4231-ab9f-edf988eb59c3"
      },
      "source": [
        "### YOUR CODE HERE\n",
        "np.concatenate((a, b), axis = 0)\n",
        "### END CODE"
      ],
      "execution_count": null,
      "outputs": [
        {
          "output_type": "execute_result",
          "data": {
            "text/plain": [
              "array([[1, 2],\n",
              "       [3, 4],\n",
              "       [5, 6]])"
            ]
          },
          "metadata": {
            "tags": []
          },
          "execution_count": 9
        }
      ]
    },
    {
      "cell_type": "markdown",
      "metadata": {
        "id": "ZKSttmKXb8P7"
      },
      "source": [
        "**Discussion:** `axis` can take the value 0, 1 and None. What does each value do?\n",
        "\n",
        "Let's try to repeat the same exercise using `np.multiply(a,b)`."
      ]
    },
    {
      "cell_type": "code",
      "metadata": {
        "id": "ZdfBwLrqdyMW",
        "colab": {
          "base_uri": "https://localhost:8080/"
        },
        "outputId": "cbb49c29-ebb2-4ea2-f8a3-4a548eb8ed5a"
      },
      "source": [
        "### YOUR CODE HERE\n",
        "np.multiply(a,b)\n",
        "\n",
        "### END CODE"
      ],
      "execution_count": null,
      "outputs": [
        {
          "output_type": "execute_result",
          "data": {
            "text/plain": [
              "array([[ 5, 12],\n",
              "       [15, 24]])"
            ]
          },
          "metadata": {
            "tags": []
          },
          "execution_count": 10
        }
      ]
    },
    {
      "cell_type": "markdown",
      "metadata": {
        "id": "rUBwDECVebfX"
      },
      "source": [
        "**Warm up #2**: Let's build a tiny network for our VQA dataset.\n",
        "\n",
        "Let's start with our language model and add an LSTM layer to our architecture.\n",
        "\n",
        "We want our LSTM cell to have:\n",
        "\n",
        "\n",
        "*   `hidden_size` as our hidden size\n",
        "*   `return_sequences` to be equal to `True`\n",
        "\n",
        "Hint: make sure to use the `.add()` function to add layers.\n",
        "\n"
      ]
    },
    {
      "cell_type": "code",
      "metadata": {
        "id": "vrvGredigl5b"
      },
      "source": [
        "def tiny_language_model(embedding, vocab_size, q_lengths = 20, \n",
        "                   num_layers = 2, hidden_size=512, \n",
        "                   embedding_size=100):\n",
        "\n",
        "  language_model = Sequential()\n",
        "  language_model.add(Embedding(vocab_size, embedding_size, \n",
        "                    weights=[embedding], input_length=q_lengths, \n",
        "                    trainable=False))\n",
        "  ### YOUR CODE HERE\n",
        "  language_model.add(LSTM(hidden_size, return_sequences=True))\n",
        "  ### END CODE\n",
        "  return language_model"
      ],
      "execution_count": null,
      "outputs": []
    },
    {
      "cell_type": "markdown",
      "metadata": {
        "id": "Wu8CunVJqMCw"
      },
      "source": [
        "Now Let's focus on our image model.\n",
        "\n",
        "Make sure to add a Dense layer with the number of units equal to `hidden_size`."
      ]
    },
    {
      "cell_type": "code",
      "metadata": {
        "id": "nsifXGD5qViS"
      },
      "source": [
        "def tiny_image_model(hidden_size=512):\n",
        "  image_model = Sequential()\n",
        "  image_model.add(Reshape(input_shape = (4096,), target_shape=(4096,)))\n",
        "  ### YOUR CODE HERE\n",
        "  language_model.add(Dense(hidden_size, activation='tanh'))\n",
        "  ### END CODE\n",
        "  return image_model"
      ],
      "execution_count": null,
      "outputs": []
    },
    {
      "cell_type": "markdown",
      "metadata": {
        "id": "FswKDZ2MrAcj"
      },
      "source": [
        "Now, let's combine our model into one VQA model.\n",
        "\n",
        "`combined = concatenate([image_model_.output, language_model_.output])`\n",
        "\n",
        "`model = Dense(FILL_ME_IN, activation = 'tanh')(combined)`\n",
        "\n",
        "`model = Dropout(FILL_ME_IN)(model)`\n",
        "\n",
        "We can also use `multiply()` instead of `concatenate()` with the same parameters."
      ]
    },
    {
      "cell_type": "code",
      "metadata": {
        "id": "H_GlZzsOrEzK"
      },
      "source": [
        "def tiny_vqa_model(embedding, vocab_size, q_lengths = 20, \n",
        "              num_lstm_layers = 2, hidden_size=512, \n",
        "              embedding_size=100, num_classes=30):\n",
        "  image_model_ = tiny_image_model(hidden_size)\n",
        "\n",
        "  language_model_ = tiny_language_model(embedding, vocab_size, \n",
        "                                   q_lengths = q_lengths, \n",
        "                                   num_layers = num_lstm_layers, \n",
        "                                   hidden_size=hidden_size, \n",
        "                                   embedding_size=embedding_size)\n",
        "  ### CHOOSE BETWEEN CONCATENATING OR MULTIPLYING LAYERS\n",
        "  model = np.concatenate(image_model_.output, language_model_.output)\n",
        "  model.Dense(64, activation = 'tanh')(model)\n",
        "  model.Dropout(0.2)(model)\n",
        "  ### END CODE\n",
        "\n",
        "  model = Dense(num_classes)(model)\n",
        "  model = Activation(\"softmax\")(model)\n",
        "  model = Model(inputs=[image_model_.input, language_model_.input], outputs=model)\n",
        "  model.compile(loss='categorical_crossentropy', optimizer='rmsprop', metrics=['accuracy'])\n",
        "\n",
        "  return model"
      ],
      "execution_count": null,
      "outputs": []
    },
    {
      "cell_type": "markdown",
      "metadata": {
        "id": "qbEG5Y-7wts_"
      },
      "source": [
        "Now, let's visualize and train our model."
      ]
    },
    {
      "cell_type": "code",
      "metadata": {
        "id": "ef8Nmbq7spAP",
        "colab": {
          "base_uri": "https://localhost:8080/",
          "height": 341
        },
        "outputId": "c0f63d12-961e-4b97-a63d-e99d1d4ddcaf"
      },
      "source": [
        "tiny_vqa_model_ = tiny_vqa_model(embedding_matrix, len(vocab), q_lengths = 20, \n",
        "          num_lstm_layers = 2, hidden_size=512, embedding_size=100, num_classes=30)\n",
        "plot_model(tiny_vqa_model_, to_file='model_plot.png', show_shapes=True, show_layer_names=True)"
      ],
      "execution_count": null,
      "outputs": [
        {
          "output_type": "error",
          "ename": "AttributeError",
          "evalue": "ignored",
          "traceback": [
            "\u001b[0;31m---------------------------------------------------------------------------\u001b[0m",
            "\u001b[0;31mAttributeError\u001b[0m                            Traceback (most recent call last)",
            "\u001b[0;32m<ipython-input-26-2fb77e874d66>\u001b[0m in \u001b[0;36m<module>\u001b[0;34m()\u001b[0m\n\u001b[1;32m      1\u001b[0m tiny_vqa_model_ = tiny_vqa_model(embedding_matrix, len(vocab), q_lengths = 20, \n\u001b[0;32m----> 2\u001b[0;31m           num_lstm_layers = 2, hidden_size=512, embedding_size=100, num_classes=30)\n\u001b[0m\u001b[1;32m      3\u001b[0m \u001b[0mplot_model\u001b[0m\u001b[0;34m(\u001b[0m\u001b[0mtiny_vqa_model_\u001b[0m\u001b[0;34m,\u001b[0m \u001b[0mto_file\u001b[0m\u001b[0;34m=\u001b[0m\u001b[0;34m'model_plot.png'\u001b[0m\u001b[0;34m,\u001b[0m \u001b[0mshow_shapes\u001b[0m\u001b[0;34m=\u001b[0m\u001b[0;32mTrue\u001b[0m\u001b[0;34m,\u001b[0m \u001b[0mshow_layer_names\u001b[0m\u001b[0;34m=\u001b[0m\u001b[0;32mTrue\u001b[0m\u001b[0;34m)\u001b[0m\u001b[0;34m\u001b[0m\u001b[0;34m\u001b[0m\u001b[0m\n",
            "\u001b[0;32m<ipython-input-25-5474f68a512b>\u001b[0m in \u001b[0;36mtiny_vqa_model\u001b[0;34m(embedding, vocab_size, q_lengths, num_lstm_layers, hidden_size, embedding_size, num_classes)\u001b[0m\n\u001b[1;32m      2\u001b[0m               \u001b[0mnum_lstm_layers\u001b[0m \u001b[0;34m=\u001b[0m \u001b[0;36m2\u001b[0m\u001b[0;34m,\u001b[0m \u001b[0mhidden_size\u001b[0m\u001b[0;34m=\u001b[0m\u001b[0;36m512\u001b[0m\u001b[0;34m,\u001b[0m\u001b[0;34m\u001b[0m\u001b[0;34m\u001b[0m\u001b[0m\n\u001b[1;32m      3\u001b[0m               embedding_size=100, num_classes=30):\n\u001b[0;32m----> 4\u001b[0;31m   \u001b[0mimage_model_\u001b[0m \u001b[0;34m=\u001b[0m \u001b[0mtiny_image_model\u001b[0m\u001b[0;34m(\u001b[0m\u001b[0mhidden_size\u001b[0m\u001b[0;34m)\u001b[0m\u001b[0;34m\u001b[0m\u001b[0;34m\u001b[0m\u001b[0m\n\u001b[0m\u001b[1;32m      5\u001b[0m \u001b[0;34m\u001b[0m\u001b[0m\n\u001b[1;32m      6\u001b[0m   language_model_ = tiny_language_model(embedding, vocab_size, \n",
            "\u001b[0;32m<ipython-input-12-33b23e14eaa6>\u001b[0m in \u001b[0;36mtiny_image_model\u001b[0;34m(hidden_size)\u001b[0m\n\u001b[1;32m      3\u001b[0m   \u001b[0mimage_model\u001b[0m\u001b[0;34m.\u001b[0m\u001b[0madd\u001b[0m\u001b[0;34m(\u001b[0m\u001b[0mReshape\u001b[0m\u001b[0;34m(\u001b[0m\u001b[0minput_shape\u001b[0m \u001b[0;34m=\u001b[0m \u001b[0;34m(\u001b[0m\u001b[0;36m4096\u001b[0m\u001b[0;34m,\u001b[0m\u001b[0;34m)\u001b[0m\u001b[0;34m,\u001b[0m \u001b[0mtarget_shape\u001b[0m\u001b[0;34m=\u001b[0m\u001b[0;34m(\u001b[0m\u001b[0;36m4096\u001b[0m\u001b[0;34m,\u001b[0m\u001b[0;34m)\u001b[0m\u001b[0;34m)\u001b[0m\u001b[0;34m)\u001b[0m\u001b[0;34m\u001b[0m\u001b[0;34m\u001b[0m\u001b[0m\n\u001b[1;32m      4\u001b[0m   \u001b[0;31m### YOUR CODE HERE\u001b[0m\u001b[0;34m\u001b[0m\u001b[0;34m\u001b[0m\u001b[0;34m\u001b[0m\u001b[0m\n\u001b[0;32m----> 5\u001b[0;31m   \u001b[0mlanguage_model\u001b[0m\u001b[0;34m.\u001b[0m\u001b[0madd\u001b[0m\u001b[0;34m(\u001b[0m\u001b[0mDense\u001b[0m\u001b[0;34m(\u001b[0m\u001b[0mhidden_size\u001b[0m\u001b[0;34m,\u001b[0m \u001b[0mactivation\u001b[0m\u001b[0;34m=\u001b[0m\u001b[0;34m'tanh'\u001b[0m\u001b[0;34m)\u001b[0m\u001b[0;34m)\u001b[0m\u001b[0;34m\u001b[0m\u001b[0;34m\u001b[0m\u001b[0m\n\u001b[0m\u001b[1;32m      6\u001b[0m   \u001b[0;31m### END CODE\u001b[0m\u001b[0;34m\u001b[0m\u001b[0;34m\u001b[0m\u001b[0;34m\u001b[0m\u001b[0m\n\u001b[1;32m      7\u001b[0m   \u001b[0;32mreturn\u001b[0m \u001b[0mimage_model\u001b[0m\u001b[0;34m\u001b[0m\u001b[0;34m\u001b[0m\u001b[0m\n",
            "\u001b[0;31mAttributeError\u001b[0m: 'function' object has no attribute 'add'"
          ]
        }
      ]
    },
    {
      "cell_type": "code",
      "metadata": {
        "id": "fe8YGxQOsmAj"
      },
      "source": [
        "val_features, val_questions, val_answers = encode_image(val_feats_path, val_path)\n",
        "tiny_vqa_model_.fit([train_features, train_questions], train_answers, \n",
        "              validation_data=([val_features, val_questions], val_answers),\n",
        "              epochs=10, batch_size=64, shuffle=True)"
      ],
      "execution_count": null,
      "outputs": []
    },
    {
      "cell_type": "markdown",
      "metadata": {
        "id": "ePsWYjWEXGIc"
      },
      "source": [
        "### Optional exercise: Better, more complex model\n",
        "\n",
        "Make sure to add Dense layers with several layers, Dropout layers and any other layer types you might think would make the model better.\n",
        "\n",
        "Here is our **image model**:"
      ]
    },
    {
      "cell_type": "code",
      "metadata": {
        "id": "L5tNmC3cIY15"
      },
      "source": [
        "def image_model(hidden_size=512):\n",
        "  image_model = Sequential()\n",
        "  image_model.add(Reshape(input_shape = (4096,), target_shape=(4096,)))\n",
        "  ### YOUR CODE HERE\n",
        "\n",
        "  ### END CODE\n",
        "  image_model.add(Dense(hidden_size, activation = 'tanh'))\n",
        "  return image_model\n",
        "\n",
        "def vqa_model(embedding, vocab_size, q_lengths = 20, \n",
        "              num_lstm_layers = 2, hidden_size=512, \n",
        "              embedding_size=100, num_classes=30):\n",
        "  image_model_ = image_model(hidden_size)\n",
        "\n",
        "  language_model_ = language_model(embedding, vocab_size, \n",
        "                                   q_lengths = q_lengths, \n",
        "                                   num_layers = num_lstm_layers, \n",
        "                                   hidden_size=hidden_size, \n",
        "                                   embedding_size=embedding_size)\n",
        "  ### CHOOSE BETWEEN CONCATENATING OR MULTIPLYING LAYERS\n",
        "  #combined = multiply([image_model_.output, language_model_.output])\n",
        "  combined = concatenate([image_model_.output, language_model_.output])\n",
        "  ### END CODE\n",
        "\n",
        "  model = Dense(256, activation = 'tanh')(combined)\n",
        "  model = Dropout(0.5)(model)\n",
        "  \n",
        "  ### YOUR CODE HERE: MAKE SURE TO ADD OR REMOVE LAYERS\n",
        "  model = Dense(256, activation = 'tanh')(model)\n",
        "  model = Dropout(0.5)(model)\n",
        "\n",
        "  model = Dense(128, activation = 'tanh')(model)\n",
        "  model = Dropout(0.5)(model)\n",
        "  ### END CODE\n",
        "\n",
        "  model = Dense(num_classes)(model)\n",
        "  model = Activation(\"softmax\")(model)\n",
        "\n",
        "  model = Model(inputs=[image_model_.input, language_model_.input], outputs=model)\n",
        "\n",
        "  model.compile(loss='categorical_crossentropy', optimizer='rmsprop', metrics=['accuracy'])\n",
        "\n",
        "  return model"
      ],
      "execution_count": null,
      "outputs": []
    },
    {
      "cell_type": "markdown",
      "metadata": {
        "id": "bimOnD04TVHb"
      },
      "source": [
        "Here is what our model looks like. You can also choose different hyperparams!"
      ]
    },
    {
      "cell_type": "code",
      "metadata": {
        "id": "-1rduvOyTPMX"
      },
      "source": [
        "vqa_model = vqa_model(embedding_matrix, len(vocab), q_lengths = 20, \n",
        "          num_lstm_layers = 2, hidden_size=512, embedding_size=100,\n",
        "          num_classes=30)\n",
        "plot_model(vqa_model, to_file='model_plot.png', show_shapes=True, show_layer_names=True)"
      ],
      "execution_count": null,
      "outputs": []
    },
    {
      "cell_type": "markdown",
      "metadata": {
        "id": "_34p5szHR6iq"
      },
      "source": [
        "Let's train our model.\n",
        "\n",
        "Can you get a better model?"
      ]
    },
    {
      "cell_type": "code",
      "metadata": {
        "id": "QWO8K4vSR-CP"
      },
      "source": [
        "val_features, val_questions, val_answers = encode_image(val_feats_path, val_path)\n",
        "vqa_model.fit([train_features, train_questions], train_answers, \n",
        "              validation_data=([val_features, val_questions], val_answers),\n",
        "              epochs=10, batch_size=64, shuffle=True)"
      ],
      "execution_count": null,
      "outputs": []
    },
    {
      "cell_type": "markdown",
      "metadata": {
        "id": "TWcS8mxWcIJe"
      },
      "source": [
        "# Milestone 2. Understanding our data\n",
        "\n"
      ]
    },
    {
      "cell_type": "markdown",
      "metadata": {
        "id": "MvX4fi8nTzNd"
      },
      "source": [
        "##Activity 2a. Our answer set\n",
        "\n",
        "For our VQA task, we only use the top 30 answers in our dataset to train our model. \n",
        "\n",
        "We make sure to **ignore data points that are unanswerable** and assume a **setting where all question image pairs have an answer**. \n",
        "\n",
        "## Discussion: \n",
        "What the advantages and drawbacks of such an approach?\n"
      ]
    },
    {
      "cell_type": "code",
      "metadata": {
        "id": "LLVarMc0WSFh"
      },
      "source": [
        "#@title Run this to setup our environment! { display-mode: \"form\" }\n",
        "\n",
        "### YOUR CODE HERE\n",
        "import gdown\n",
        "from collections import Counter\n",
        "\n",
        "# file variables\n",
        "\n",
        "filter_url         = 'https://drive.google.com/uc?id=1Jc4Nff-5oPrjc3dwdB4eI8NZjiWT1VTJ'\n",
        "answers_list_path        = 'filter.json'\n",
        "\n",
        "gdown.download(filter_url, 'filter.json', True)\n",
        "\n",
        "def load_answer(path):\n",
        "  return json.load(open(path, 'r'))\n",
        "\n",
        "def data_stats(answers_data, answers_list):\n",
        "  a = [answers_data[i].argmax() for i in range(answers_data.shape[0])]\n",
        "  c = Counter(a)\n",
        "  for i, cnt in c.items():\n",
        "    print(answer_list[i],' : ', cnt, '(label %d)'%i)\n",
        "\n",
        "  print('\\n \\n')\n",
        "\n",
        "  answers_x = range(len(answer_list))\n",
        "  a = [answers_data[i].argmax() for i in range(answers_data.shape[0])]\n",
        "  c = Counter(a)\n",
        "  freq = [0]*len(answers_x)\n",
        "  for i, cnt in c.items():\n",
        "    freq[i] = cnt\n",
        "\n",
        "  LABELS = answer_list\n",
        "\n",
        "  plt.bar(answers_x, freq, align='center')\n",
        "  plt.show()"
      ],
      "execution_count": null,
      "outputs": []
    },
    {
      "cell_type": "markdown",
      "metadata": {
        "id": "YkiIE5zWXqVB"
      },
      "source": [
        "Let's take a look at our answer set.\n",
        "\n",
        "Let's use the `answer_list = load_answer(answers_list_path)` function to load our answer list. \n",
        "\n",
        "Make sure to print our answers!"
      ]
    },
    {
      "cell_type": "code",
      "metadata": {
        "id": "tEM2-WSMY9wH"
      },
      "source": [
        "### YOUR CODE HERE\n",
        "\n",
        "### END CODE"
      ],
      "execution_count": null,
      "outputs": []
    },
    {
      "cell_type": "markdown",
      "metadata": {
        "id": "5eFdsXmlTTgz"
      },
      "source": [
        "## Activity 2b. Train data\n",
        "\n",
        "Let's take a look at our training set distribution.\n",
        "\n",
        "In order to do so, use `data_stats(train_answers, answer_list)`."
      ]
    },
    {
      "cell_type": "code",
      "metadata": {
        "id": "pYn3xLeAaWx5"
      },
      "source": [
        "### YOUR CODE HERE\n",
        "\n",
        "### END CODE"
      ],
      "execution_count": null,
      "outputs": []
    },
    {
      "cell_type": "markdown",
      "metadata": {
        "id": "dy7pTqZ5eGGm"
      },
      "source": [
        "### We have a heavy tail in our training data! \n",
        "\n",
        "### **Discuss**: Does this affect our training and model performance?"
      ]
    },
    {
      "cell_type": "markdown",
      "metadata": {
        "id": "dUI29oiPTTp6"
      },
      "source": [
        "##Activity 2c. Validation data\n",
        "\n",
        "Let's take a look at our validation set.\n",
        "\n",
        "Use the same function from the previous activity. \n",
        "\n",
        "Make sure to use `val_answers` instead of `train_answers`."
      ]
    },
    {
      "cell_type": "code",
      "metadata": {
        "id": "q-QGpvU1fDNd"
      },
      "source": [
        "### YOUR CODE HERE\n",
        "\n",
        "### END CODE"
      ],
      "execution_count": null,
      "outputs": []
    },
    {
      "cell_type": "markdown",
      "metadata": {
        "id": "qKgyNLKvft_Q"
      },
      "source": [
        "### We can see that we have a mismatch in our training and validation data distributions! \n",
        "\n",
        "### **Discuss**: Does this affect our model performance?"
      ]
    },
    {
      "cell_type": "markdown",
      "metadata": {
        "id": "haDGQJdtTCa9"
      },
      "source": [
        "# Milestone 3. Model performance: Predicted Answer Statistics"
      ]
    },
    {
      "cell_type": "code",
      "metadata": {
        "id": "OaJAyzigdl7G"
      },
      "source": [
        "#@title Run this to prepare functions and environment! { display-mode: \"form\" }\n",
        "\n",
        "def get_categories():\n",
        "  answer_categories = {\"binary\": ['no', 'yes'],\n",
        "    \"color\": ['white', 'grey', 'black', 'blue', 'red', 'pink', 'brown', 'green', 'purple', 'yellow', 'tan', 'orange'], \n",
        "    \"food\": ['coffee', 'soup', 'wine', 'food', 'coca cola', 'corn', 'pepsi'],\n",
        "    \"object\":['keyboard', 'phone', 'laptop', 'nothing', 'lotion', 'shampoo', 'tv','cell phone'],\n",
        "    \"animal\": ['dog']\n",
        "    }\n",
        "  print(\"We have %d categories:\"%len(answer_categories.keys()))\n",
        "  for cat in answer_categories.keys():\n",
        "    print(cat, ':', answer_categories[cat])\n",
        "  return answer_categories\n",
        "\n",
        "def get_pred(model, val_features, val_questions, val_answers, answer):\n",
        "  if answer is None:\n",
        "    for i in range(30):\n",
        "      a_index = np.argwhere(np.argmax(val_answers, axis=1) == i).reshape(-1)\n",
        "      y_pred = np.argmax(model.predict([val_features[a_index], val_questions[a_index]]), axis =1)\n",
        "      accuracy = sum(np.argmax(val_answers, axis=1)[a_index] == y_pred) / len(a_index)\n",
        "      print('we have an accuracy of %f for answer %s (tested on %d)'%(accuracy, answer_list[i], len(a_index)))\n",
        "    from sklearn.metrics import classification_report\n",
        "    y_pred = np.argmax(model.predict([val_features, val_questions]), axis =1)\n",
        "    print(classification_report(np.argmax(val_answers, axis=1) , y_pred))\n",
        "  else:\n",
        "    a_index = np.argwhere(np.argmax(val_answers, axis=1) == answer).reshape(-1)\n",
        "    y_pred =np.argmax(model.predict([val_features[a_index], val_questions[a_index]]), axis =1)\n",
        "    accuracy = sum(np.argmax(val_answers, axis=1)[a_index] == y_pred) / len(a_index)\n",
        "    print('we have an accuracy of %f for answer %s (tested on %d)'%(accuracy, answer_list[answer], len(a_index)))\n",
        "\n",
        "def get_prediction_stats(category, vqa_model, val_feats, val_questions, answers):\n",
        "  if answer is None:\n",
        "    for i in range(30):\n",
        "      a_index = np.argwhere(np.argmax(val_answers, axis=1) == i).reshape(-1)\n",
        "      y_pred = np.argmax(model.predict([val_features[a_index], val_questions[a_index]]), axis =1)\n",
        "      accuracy = sum(np.argmax(val_answers, axis=1)[a_index] == y_pred) / len(a_index)\n",
        "      print('we have an accuracy of %f for answer %s (tested on %d)'%(accuracy, answer_list[i], len(a_index)))\n",
        "    from sklearn.metrics import classification_report\n",
        "    y_pred = np.argmax(model.predict([val_features, val_questions]), axis =1)\n",
        "    print(classification_report(np.argmax(val_answers, axis=1) , y_pred))\n",
        "  else:\n",
        "    a_index = np.argwhere(np.argmax(val_answers, axis=1) == answer).reshape(-1)\n",
        "    y_pred =np.argmax(model.predict([val_features[a_index], val_questions[a_index]]), axis =1)\n",
        "    accuracy = sum(np.argmax(val_answers, axis=1)[a_index] == y_pred) / len(a_index)\n",
        "    print('we have an accuracy of %f for answer %s (tested on %d)'%(accuracy, answer_list[answer], len(a_index)))\n",
        "\n",
        "def get_category_mapping(answers_list, answers_category):\n",
        "  answer_map = {}\n",
        "  for key in answers_category.keys():\n",
        "    if not key in answer_map.keys():\n",
        "      answer_map[key] = []\n",
        "    answer_map[key] += [answers_list.index(ans) for ans in answer_categories[key]]\n",
        "  return answer_map\n",
        "\n",
        "def get_prediction_stats(category, model, val_feats, \n",
        "                         val_questions, answers_list, answers_category):\n",
        "  answer_map = get_category_mapping(answers_list, answers_category)\n",
        "  if category is None:\n",
        "    for cat in answer_map.keys():\n",
        "      a_index = []\n",
        "      for c in answer_map[cat]:\n",
        "        a_index += np.argwhere(np.argmax(val_answers, axis=1) == c).reshape(-1)\n",
        "      y_pred = np.argmax(model.predict([val_features[a_index], val_questions[a_index]]), axis =1)\n",
        "      accuracy = sum(np.argmax(val_answers, axis=1)[a_index] == y_pred) / len(a_index)\n",
        "      print('\\t We have an accuracy of %f for category %s (tested on %d)'%(accuracy, cat, len(a_index)))\n",
        "  else:\n",
        "    a_index = []\n",
        "    for c in answer_map[category]:\n",
        "      a_index += np.argwhere(np.argmax(val_answers, axis=1) == c).reshape(-1).tolist()\n",
        "    y_pred = np.argmax(model.predict([val_features[a_index], val_questions[a_index]]), axis =1)\n",
        "    accuracy = sum(np.argmax(val_answers, axis=1)[a_index] == y_pred) / len(a_index)\n",
        "    print('We have an accuracy of %f for category %s (tested on %d)'%(accuracy, category, len(a_index)))\n"
      ],
      "execution_count": null,
      "outputs": []
    },
    {
      "cell_type": "code",
      "metadata": {
        "id": "6uXBYvHTxgi2"
      },
      "source": [
        "#@title **Discussion:** Why is our model failing? { display-mode: \"form\" }\n",
        "\n",
        "inputs = \"Choose Answer\" #@param [\"Choose Answer\",\"Bad images\", \"Confusing answers\", \"Confusing questions\", \"The model is not trained enough\", \"The model architecture is not good enough\"]\n",
        "\n",
        "if inputs == \"Choose Answer\":\n",
        "  print(\"Please choose a valid answer!\")\n",
        "elif inputs == \"Bad images\":\n",
        "  print(\"Could be a valid answer! However, we make sure to filter out our dataset to remove bad images.\")\n",
        "elif inputs == \"Confusing questions\":\n",
        "  print(\"Could be a valid answer! We can check this out in our dataset!\")\n",
        "elif inputs == \"The model is not trained enough\":\n",
        "  print(\"Make sure to retrain your model and finetune it\")\n",
        "elif inputs == \"The model architecture is not good enough\":\n",
        "  print(\"(OUT OF THIS PROJECT SCOPE) We can try different architectures and see if we can do better.\")\n",
        "else:\n",
        "  print(\"Could be a valid answer! However, we make sure to get the 30 most frequent answers so our answer range is not big enough to have confusing answers!\")\n"
      ],
      "execution_count": null,
      "outputs": []
    },
    {
      "cell_type": "markdown",
      "metadata": {
        "id": "gu-oRs5DQZfq"
      },
      "source": [
        "Let's do an **error analysis** of our model on our train and validation set!"
      ]
    },
    {
      "cell_type": "markdown",
      "metadata": {
        "id": "j4d9ZLjKTgSL"
      },
      "source": [
        "## Activity 3a. Model performance per answer"
      ]
    },
    {
      "cell_type": "markdown",
      "metadata": {
        "id": "7HRa8smjSbm4"
      },
      "source": [
        "###Exercise (Coding)\n",
        "\n",
        "So far, we have evaluated our model on the whole train and validation sets and \n",
        "never looked at it in more details.\n",
        "\n",
        "In this section, we take a closer look at our training and test set performance \n",
        "and examine our model's performance \n",
        "\n",
        "for each specific answer.\n",
        "\n"
      ]
    },
    {
      "cell_type": "markdown",
      "metadata": {
        "id": "oAlIqqvQSlgt"
      },
      "source": [
        "We start by choosing our answer of interest. We have around 30 answers, with labels ranging from 0 to 29. \n",
        "\n",
        "Make sure to choose one of them."
      ]
    },
    {
      "cell_type": "code",
      "metadata": {
        "id": "5uFEfX26mXEF"
      },
      "source": [
        "answer = 0"
      ],
      "execution_count": null,
      "outputs": []
    },
    {
      "cell_type": "markdown",
      "metadata": {
        "id": "hNPT-cvdSbxP"
      },
      "source": [
        "If `answer = None` then we look at each answer prediction statistics.\n",
        "\n",
        "We use `get_pred(model, val_features, val_questions, answer)` to get our model performance."
      ]
    },
    {
      "cell_type": "code",
      "metadata": {
        "id": "YIqADRxJsYV7"
      },
      "source": [
        "### YOUR CODE HERE\n",
        "\n",
        "### END CODE"
      ],
      "execution_count": null,
      "outputs": []
    },
    {
      "cell_type": "code",
      "metadata": {
        "id": "jdKAdRPcst2n"
      },
      "source": [
        "get_pred(vqa_model, val_features, val_questions, val_answers, None)"
      ],
      "execution_count": null,
      "outputs": []
    },
    {
      "cell_type": "markdown",
      "metadata": {
        "id": "i1ro-4ZWSVjr"
      },
      "source": [
        "## **Discussion:** What can you tell about our performance? Which answers need more work?"
      ]
    },
    {
      "cell_type": "markdown",
      "metadata": {
        "id": "Aun-xMGvTgZp"
      },
      "source": [
        "## Activity 3b. Model performance by answer category"
      ]
    },
    {
      "cell_type": "markdown",
      "metadata": {
        "id": "6abRUl4mSysa"
      },
      "source": [
        "### Exercise (Coding):\n",
        "\n",
        "\n",
        "Let's split our answers into answer categories.\n",
        "\n",
        "To do so, we use `answer_categories = get_categories()`"
      ]
    },
    {
      "cell_type": "code",
      "metadata": {
        "id": "6Loc6U-Sdemn"
      },
      "source": [
        "### YOUR CODE HERE\n",
        "\n",
        "### END CODE"
      ],
      "execution_count": null,
      "outputs": []
    },
    {
      "cell_type": "markdown",
      "metadata": {
        "id": "EBLymV8SfIBj"
      },
      "source": [
        "Now let's look at our model performance for each category.\n",
        "\n",
        "To do so, we can specify one of the four categories we have and run `get_prediction_stats(category, vqa_model, val_feats, val_questions, answers)`.\n",
        "\n",
        "if `category = None`, we show stats for all categories."
      ]
    },
    {
      "cell_type": "code",
      "metadata": {
        "id": "61Hlvy99fUeh"
      },
      "source": [
        "category = 'object'\n",
        "### YOUR CODE HERE\n",
        "\n",
        "### END CODE"
      ],
      "execution_count": null,
      "outputs": []
    },
    {
      "cell_type": "markdown",
      "metadata": {
        "id": "fRYCtGvWfh-X"
      },
      "source": [
        "### **Discussion:** Which category seems to be the best/worst?\n",
        "In your opinion, why is our doing better in one category and not another?\n"
      ]
    },
    {
      "cell_type": "markdown",
      "metadata": {
        "id": "dsbzzcAlTCUj"
      },
      "source": [
        "## Activity 3c. Looking at our incorrect answers"
      ]
    },
    {
      "cell_type": "code",
      "metadata": {
        "id": "4IQdZSxRVEUY"
      },
      "source": [
        "#@title Run this to prepare functions and environment! { display-mode: \"form\" }\n",
        "\n",
        "### YOUR CODE HERE\n",
        "def get_frequency(train_answers, X):\n",
        "  a_index = np.argwhere(np.argmax(train_answers, axis=1) == X).reshape(-1)\n",
        "  print(\"we have around %d answers\"%len(a_index))\n",
        "\n",
        "\n",
        "def get_stats(model, val_feats, val_questions, val_answers, X):\n",
        "  a_index = np.argwhere(np.argmax(val_answers, axis=1) == X).reshape(-1)\n",
        "  y_pred = np.argmax(model.predict([val_feats[a_index], val_questions[a_index]]), axis=1)\n",
        "  accuracy = sum(np.argmax(val_answers, axis=1)[a_index] == y_pred) / len(a_index)\n",
        "  print('\\t We have an accuracy of %f for answer %d (tested on %d)'%(accuracy, X, len(a_index)))\n",
        "\n",
        "def get_question_stats(train_questions, val_questions):\n",
        "  train_idx, test_idx = [], []\n",
        "  independent_train, independent_test = [], []\n",
        "  for i, lst in enumerate(val_questions):\n",
        "      if lst in train_questions:\n",
        "          test_idx.append(i)\n",
        "      else:\n",
        "          independent_test.append(i)\n",
        "\n",
        "  print(\"We have %d question in our validation set that the model has seen during training.\"%len(test_idx))\n",
        "  return test_idx, independent_test\n",
        "\n",
        "def print_bad_preds(model, vocab, val_features, val_questions, val_answers):\n",
        "  y_pred = np.argmax(model.predict([val_features, val_questions]), axis=1)\n",
        "  temp = np.argmax(val_answers, axis=1) == y_pred\n",
        "  print(sum(temp))\n",
        "  for i in range(len(temp)):\n",
        "    if temp[i] == 0:\n",
        "      print(vocab.decode_sentence(val_questions[i].astype(int)))\n",
        "### END CODE"
      ],
      "execution_count": null,
      "outputs": []
    },
    {
      "cell_type": "markdown",
      "metadata": {
        "id": "3pkng1SjTZCw"
      },
      "source": [
        "### ***Case study 1***: Looking at our performance for all questions with the answer `X`\n",
        "\n",
        "#### Exercise (Coding):\n",
        "Let's take a look at the frequency of answer `X` in our train set. In order to do so, we use the function `get_frequency(train_answers, X)`.\n"
      ]
    },
    {
      "cell_type": "code",
      "metadata": {
        "id": "O0pIQwiBUzmx"
      },
      "source": [
        "X = 29\n",
        "### YOUR CODE HERE\n",
        "\n",
        "### END CODE"
      ],
      "execution_count": null,
      "outputs": []
    },
    {
      "cell_type": "markdown",
      "metadata": {
        "id": "RfVP7pAGVCwk"
      },
      "source": [
        "### **Discussion:** Can you say something from the start about how the frequency might affect our performance on this specific answer type?"
      ]
    },
    {
      "cell_type": "markdown",
      "metadata": {
        "id": "xd3kIbigWB0q"
      },
      "source": [
        "Now let's take a look at our performance statistics on the validation set.\n",
        "\n",
        "In order to do so, we use the function `get_stats(vqa_model, val_features, val_questions, val_answers, X)`"
      ]
    },
    {
      "cell_type": "code",
      "metadata": {
        "id": "Jwtg4rROZJut"
      },
      "source": [
        "### YOUR CODE HERE\n",
        "\n",
        "### END CODE"
      ],
      "execution_count": null,
      "outputs": []
    },
    {
      "cell_type": "markdown",
      "metadata": {
        "id": "JM_3nnQ0Z1QW"
      },
      "source": [
        "### **Discussion:** What can you say about our validation performance?\n",
        "\n",
        "Model seems to fail whenever the answer is `X`"
      ]
    },
    {
      "cell_type": "markdown",
      "metadata": {
        "id": "4OjGrz77ZaSw"
      },
      "source": [
        "Now let's do the same for our train set.\n",
        "\n",
        "Use `get_stats(vqa_model, train_features, train_questions, train_answers, X)` to print our results."
      ]
    },
    {
      "cell_type": "code",
      "metadata": {
        "id": "IxSM2330afTC"
      },
      "source": [
        "### YOUR CODE HERE\n",
        "\n",
        "### END CODE"
      ],
      "execution_count": null,
      "outputs": []
    },
    {
      "cell_type": "markdown",
      "metadata": {
        "id": "toSmrvRlbDfi"
      },
      "source": [
        "### **Discussion:** Let's compare both results. What can you say about our model?\n",
        "\n",
        "Is it overfitting? Is it even learning how to answer such questions? \n",
        "\n",
        "Can we say anything given our frequency?"
      ]
    },
    {
      "cell_type": "markdown",
      "metadata": {
        "id": "PiswsHnbeLBC"
      },
      "source": [
        "### **Case study 2:** Looking at our questions stats\n",
        "\n",
        "Let's now look at our questions. \n",
        "\n",
        "As we discussed earlier, some questions might be confusing to our model and this might affect its performance.\n",
        "\n",
        "#### **Discussion:** What might be a confusing question?\n",
        "\n",
        "> It might be a question that the model has never seen.\n",
        "\n",
        "> It might be some gibberish\n",
        "\n",
        "> It might have a lot of fillers that supposedly confuse our model.\n",
        "\n",
        "Let's take a look at our train and validation set question intersection.\n",
        "\n",
        "Use the `test_idx, independent_test = get_question_stat(train_questions, val_questions)` to get the number of unique and shared questions between our two sets."
      ]
    },
    {
      "cell_type": "code",
      "metadata": {
        "id": "J7kRmjG4fCzl"
      },
      "source": [
        "### YOUR CODE HERE\n",
        "\n",
        "### END CODE"
      ],
      "execution_count": null,
      "outputs": []
    },
    {
      "cell_type": "markdown",
      "metadata": {
        "id": "nxbcMwXW1zV8"
      },
      "source": [
        "So the model has seen all these questions before!\n",
        "\n",
        "Maybe we can take a look at some questions and see if they are confusing or not.\n",
        "\n",
        "Make sure to print a few questions and see if any questions are badly formatted.\n",
        "\n",
        "Use `print_bad_preds(vqa_model, val_features, val_questions, val_answers)`"
      ]
    },
    {
      "cell_type": "code",
      "metadata": {
        "id": "ed4EzrfX-Ed3"
      },
      "source": [
        "### YOUR CODE HERE\n",
        "\n",
        "### END CODE"
      ],
      "execution_count": null,
      "outputs": []
    },
    {
      "cell_type": "markdown",
      "metadata": {
        "id": "h34tfdfQe0Vu"
      },
      "source": [
        "### **Discussion:** From what you have seen, can our question set quality affect our performance?"
      ]
    },
    {
      "cell_type": "markdown",
      "metadata": {
        "id": "8q-MNQkRhJ1Z"
      },
      "source": [
        "##**Ethics discussion**: Let's try to answer a few questions.\n",
        "\n",
        "Is this an impactful project?\n",
        "\n",
        "Are the proposed models efficient enough?\n",
        "\n",
        "Are there any problems that might stem from such technology?\n",
        "\n",
        "Any issues that might come from an irresponsible use of such technology?"
      ]
    },
    {
      "cell_type": "markdown",
      "metadata": {
        "id": "vGqKDb2wte_g"
      },
      "source": [
        "# Fin! You just finished a cool impactful project!!\n"
      ]
    },
    {
      "cell_type": "markdown",
      "metadata": {
        "id": "lmJ_ycYE4Zpj"
      },
      "source": [
        "![](https://vizwiz.org/wp-content/uploads/2019/05/logo-name1.png)"
      ]
    }
  ]
}